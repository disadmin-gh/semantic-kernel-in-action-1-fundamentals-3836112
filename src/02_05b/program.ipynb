{
 "cells": [
  {
   "cell_type": "code",
   "execution_count": 1,
   "id": "db3b0e8d",
   "metadata": {
    "language_info": {
     "name": "polyglot-notebook"
    },
    "polyglot_notebook": {
     "kernelName": "csharp"
    }
   },
   "outputs": [
    {
     "name": "stdout",
     "output_type": "stream",
     "text": [
      "✅ Loaded .env from: d:\\VSC\\semantic-kernel-in-action-1-fundamentals-3836112\\src\\.env\n",
      "🔑 Configuration loaded successfully!\n",
      "Azure OpenAI Endpoint: https://dis-openai-0705.openai.azure.com/\n",
      "Deployment Name: gpt-4.1\n",
      "API Key: ✅ Loaded (hidden)\n"
     ]
    }
   ],
   "source": [
    "// Load the EnvConfigHelper class from our project\n",
    "#load \"../EnvConfigHelper.cs\"\n",
    "\n",
    "  // Load configuration from .env file\n",
    "  var modelDeploymentName = EnvConfigHelper.AzureOpenAIDeploymentName;\n",
    "  var azureOpenAIEndpoint = EnvConfigHelper.AzureOpenAIEndpoint;\n",
    "  var azureOpenAIKey = EnvConfigHelper.AzureOpenAIKey;\n",
    "\n",
    "\n",
    "// Display loaded configuration (without sensitive data)\n",
    "Console.WriteLine(\"🔑 Configuration loaded successfully!\");\n",
    "Console.WriteLine($\"Azure OpenAI Endpoint: {azureOpenAIEndpoint}\");\n",
    "Console.WriteLine($\"Deployment Name: {modelDeploymentName}\");\n",
    "Console.WriteLine($\"API Key: {(string.IsNullOrEmpty(azureOpenAIKey) ? \"❌ Not loaded\" : \"✅ Loaded (hidden)\")}\");"
   ]
  },
  {
   "cell_type": "code",
   "execution_count": 2,
   "metadata": {
    "language_info": {
     "name": "polyglot-notebook"
    },
    "polyglot_notebook": {
     "kernelName": "csharp"
    }
   },
   "outputs": [
    {
     "data": {
      "text/html": [
       "<div><div></div><div></div><div><strong>Installed Packages</strong><ul><li><span>Microsoft.SemanticKernel, 1.60.0</span></li></ul></div></div>"
      ]
     },
     "metadata": {},
     "output_type": "display_data"
    }
   ],
   "source": [
    "#r \"nuget: Microsoft.SemanticKernel, *\"\n",
    "using Microsoft.SemanticKernel;\n",
    "using System.IO;"
   ]
  },
  {
   "cell_type": "code",
   "execution_count": 3,
   "id": "78e14b61",
   "metadata": {
    "language_info": {
     "name": "polyglot-notebook"
    },
    "polyglot_notebook": {
     "kernelName": "csharp"
    }
   },
   "outputs": [],
   "source": [
    "var builder = Kernel.CreateBuilder();\n",
    "            builder.Services.AddAzureOpenAIChatCompletion(\n",
    "                modelDeploymentName,\n",
    "                azureOpenAIEndpoint,\n",
    "                azureOpenAIKey\n",
    "            );\n",
    "\n",
    "            var kernel = builder.Build();"
   ]
  },
  {
   "cell_type": "code",
   "execution_count": 4,
   "metadata": {
    "language_info": {
     "name": "polyglot-notebook"
    },
    "polyglot_notebook": {
     "kernelName": "csharp"
    }
   },
   "outputs": [],
   "source": [
    "var topic = \"The Semantic Kernel SDK has been born on December 19th \";\n",
    "var prompt = $\"Generate a very short funny poem about the given event Event:{topic}\";\n"
   ]
  },
  {
   "cell_type": "code",
   "execution_count": 5,
   "metadata": {
    "language_info": {
     "name": "polyglot-notebook"
    },
    "polyglot_notebook": {
     "kernelName": "csharp"
    }
   },
   "outputs": [
    {
     "name": "stdout",
     "output_type": "stream",
     "text": [
      "On December nineteenth, with code nice and clean,  \n",
      "Semantic Kernel SDK burst on the scene.  \n",
      "“It’s ALIVE!” cried the team, as their scripts ran and churned—   \n",
      "Now AI speaks fluent .NET, as we’ve all just learned!\r\n"
     ]
    }
   ],
   "source": [
    " var result = await kernel.InvokePromptAsync(prompt);\n",
    "\n",
    "Console.WriteLine(result);"
   ]
  }
 ],
 "metadata": {
  "kernelspec": {
   "display_name": ".NET (C#)",
   "language": "C#",
   "name": ".net-csharp"
  },
  "language_info": {
   "name": "polyglot-notebook"
  },
  "polyglot_notebook": {
   "kernelInfo": {
    "defaultKernelName": "csharp",
    "items": [
     {
      "aliases": [],
      "name": "csharp"
     }
    ]
   }
  }
 },
 "nbformat": 4,
 "nbformat_minor": 5
}
