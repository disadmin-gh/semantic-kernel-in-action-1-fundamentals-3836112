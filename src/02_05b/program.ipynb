{
 "cells": [
  {
   "cell_type": "code",
   "execution_count": 16,
   "metadata": {
    "language_info": {
     "name": "polyglot-notebook"
    },
    "polyglot_notebook": {
     "kernelName": "csharp"
    }
   },
   "outputs": [
    {
     "data": {
      "text/html": [
       "<div><div></div><div></div><div><strong>Installed Packages</strong><ul><li><span>Microsoft.SemanticKernel, 1.61.0</span></li></ul></div></div>"
      ]
     },
     "metadata": {},
     "output_type": "display_data"
    }
   ],
   "source": [
    "#r \"nuget: Microsoft.SemanticKernel, *\"\n",
    "using Microsoft.SemanticKernel;\n",
    "using Microsoft.SemanticKernel.ChatCompletion;\n",
    "using System.IO;\n",
    "\n",
    "class EnvLoader\n",
    "{\n",
    "    public static void Load(string filePath = \".env\")\n",
    "    {\n",
    "        if (!File.Exists(filePath))\n",
    "        {\n",
    "            Console.WriteLine($\"⚠️ File '{filePath}' not found.\");\n",
    "            return;\n",
    "        }\n",
    "\n",
    "        foreach (var line in File.ReadAllLines(filePath))\n",
    "        {\n",
    "            var trimmed = line.Trim();\n",
    "\n",
    "            // Skip empty lines and comments\n",
    "            if (string.IsNullOrWhiteSpace(trimmed) || trimmed.StartsWith(\"#\"))\n",
    "                continue;\n",
    "\n",
    "            var parts = trimmed.Split('=', 2); // Only split at the first '='\n",
    "            if (parts.Length == 2)\n",
    "            {\n",
    "                var key = parts[0].Trim();\n",
    "                var value = parts[1].Trim().Trim('\"'); // Remove surrounding quotes\n",
    "                Environment.SetEnvironmentVariable(key, value);\n",
    "            }\n",
    "        }\n",
    "    }\n",
    "}\n"
   ]
  },
  {
   "cell_type": "code",
   "execution_count": 18,
   "metadata": {
    "language_info": {
     "name": "polyglot-notebook"
    },
    "polyglot_notebook": {
     "kernelName": "csharp"
    }
   },
   "outputs": [
    {
     "name": "stdout",
     "output_type": "stream",
     "text": [
      "modelId: gpt-4.1\n",
      "endPoint: https://dis-azopen-ai.openai.azure.com/\n",
      "apiKey: 7vddAIvhIyaYiOumOwzB2Anip91Y2JHlKjEt5y5JEAEry4nfbVQqJQQJ99BGACHYHv6XJ3w3AAABACOGaCg3\n"
     ]
    }
   ],
   "source": [
    "EnvLoader.Load(); // Loads from .env\n",
    "\n",
    "// Example: retrieve a specific environment variable\n",
    "string modelId = Environment.GetEnvironmentVariable(\"modelId\");\n",
    "string endPoint = Environment.GetEnvironmentVariable(\"endPoint\");\n",
    "string apiKey = Environment.GetEnvironmentVariable(\"apiKey\");\n",
    "Console.WriteLine($\"modelId: {modelId}\");\n",
    "Console.WriteLine($\"endPoint: {endPoint}\");\n",
    "Console.WriteLine($\"apiKey: {apiKey}\");\n"
   ]
  },
  {
   "cell_type": "code",
   "execution_count": 19,
   "id": "78e14b61",
   "metadata": {
    "language_info": {
     "name": "polyglot-notebook"
    },
    "polyglot_notebook": {
     "kernelName": "csharp"
    }
   },
   "outputs": [],
   "source": [
    "var builder = Kernel.CreateBuilder();\n",
    "            builder.Services.AddAzureOpenAIChatCompletion(\n",
    "                modelId,\n",
    "                endPoint,\n",
    "                apiKey\n",
    "            );\n",
    "\n",
    "            var kernel = builder.Build();"
   ]
  },
  {
   "cell_type": "code",
   "execution_count": 20,
   "metadata": {
    "language_info": {
     "name": "polyglot-notebook"
    },
    "polyglot_notebook": {
     "kernelName": "csharp"
    }
   },
   "outputs": [],
   "source": [
    "// Create chat history\n",
    "\n",
    "var history = new ChatHistory(\"You are a mischievous and jovial assistant. You will crack jokes when a user supplies a prompt.\");"
   ]
  },
  {
   "cell_type": "code",
   "execution_count": null,
   "metadata": {
    "language_info": {
     "name": "polyglot-notebook"
    },
    "polyglot_notebook": {
     "kernelName": "csharp"
    }
   },
   "outputs": [],
   "source": [
    "ChatHistory chatMessages = new ChatHistory(\"You are a friendly. You will complete required steps to the best of your knowledge. If the user doesn't provide enough information for you to complete a task however, you will ask clarifying questions until you have enough information to complete said task.\");"
   ]
  },
  {
   "cell_type": "code",
   "execution_count": 7,
   "metadata": {
    "language_info": {
     "name": "polyglot-notebook"
    },
    "polyglot_notebook": {
     "kernelName": "csharp"
    }
   },
   "outputs": [],
   "source": [
    "// Get chat completion service\n",
    "\n",
    "var chatCompletionService = kernel.GetRequiredService<IChatCompletionService>();"
   ]
  }
 ],
 "metadata": {
  "kernelspec": {
   "display_name": ".NET (C#)",
   "language": "C#",
   "name": ".net-csharp"
  },
  "language_info": {
   "name": "polyglot-notebook"
  },
  "polyglot_notebook": {
   "kernelInfo": {
    "defaultKernelName": "csharp",
    "items": [
     {
      "aliases": [],
      "name": "csharp"
     }
    ]
   }
  }
 },
 "nbformat": 4,
 "nbformat_minor": 5
}
