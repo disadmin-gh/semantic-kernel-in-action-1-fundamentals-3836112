{
 "cells": [
  {
   "cell_type": "code",
   "execution_count": 11,
   "id": "c276621a",
   "metadata": {},
   "outputs": [
    {
     "name": "stdout",
     "output_type": "stream",
     "text": [
      "✅ Loaded .env from: d:\\Dev\\VSC\\semantic-kernel-in-action-1-fundamentals-3836112\\src\\.env\n",
      "🔑 Configuration loaded successfully!\n",
      "Azure OpenAI Endpoint: https://dis-openai-0705.openai.azure.com/\n",
      "Deployment Name: gpt-4.1\n",
      "API Key: ✅ Loaded (hidden)\n"
     ]
    }
   ],
   "source": [
    "// Load the EnvConfigHelper class from our project\n",
    "#load \"../EnvConfigHelper.cs\"\n",
    "\n",
    "  // Load configuration from .env file\n",
    "  var modelDeploymentName = EnvConfigHelper.AzureOpenAIDeploymentName;\n",
    "  var azureOpenAIEndpoint = EnvConfigHelper.AzureOpenAIEndpoint;\n",
    "  var azureOpenAIKey = EnvConfigHelper.AzureOpenAIKey;\n",
    "\n",
    "\n",
    "// Display loaded configuration (without sensitive data)\n",
    "Console.WriteLine(\"🔑 Configuration loaded successfully!\");\n",
    "Console.WriteLine($\"Azure OpenAI Endpoint: {azureOpenAIEndpoint}\");\n",
    "Console.WriteLine($\"Deployment Name: {modelDeploymentName}\");\n",
    "Console.WriteLine($\"API Key: {(string.IsNullOrEmpty(azureOpenAIKey) ? \"❌ Not loaded\" : \"✅ Loaded (hidden)\")}\");"
   ]
  },
  {
   "cell_type": "code",
   "execution_count": 6,
   "id": "6552bc37",
   "metadata": {},
   "outputs": [
    {
     "data": {
      "text/html": [
       "<div><div></div><div></div><div><strong>Installed Packages</strong><ul><li><span>Microsoft.SemanticKernel, 1.61.0</span></li><li><span>Microsoft.SemanticKernel.PromptTemplates.Handlebars, 1.61.0</span></li></ul></div></div>"
      ]
     },
     "metadata": {},
     "output_type": "display_data"
    }
   ],
   "source": [
    "#r \"nuget: Microsoft.SemanticKernel, *\"\n",
    "#r \"nuget: Microsoft.SemanticKernel.PromptTemplates.Handlebars, *\"\n",
    "\n",
    "using Microsoft.SemanticKernel;\n",
    "using Microsoft.SemanticKernel.PromptTemplates.Handlebars;\n",
    "using System.ComponentModel;\n",
    "using System.IO;\n",
    "using System.Text.Json;\n",
    "using System.Net.Http;\n",
    "using Microsoft.SemanticKernel.Connectors.OpenAI;\n",
    "using Microsoft.SemanticKernel.ChatCompletion;\n",
    "\n"
   ]
  },
  {
   "cell_type": "code",
   "execution_count": 7,
   "id": "7f86e327",
   "metadata": {},
   "outputs": [],
   "source": [
    "public class WhatDateIsIt\n",
    "{\n",
    "  [KernelFunction, Description(\"Get the current date\")]\n",
    "  public string Date(IFormatProvider? formatProvider = null) =>\n",
    "      DateTimeOffset.UtcNow.ToString(\"D\", formatProvider);\n",
    "}"
   ]
  },
  {
   "cell_type": "code",
   "execution_count": 12,
   "id": "eb576589",
   "metadata": {},
   "outputs": [],
   "source": [
    "async Task Execute()\n",
    "  {\n",
    "    \n",
    "    var builder = Kernel.CreateBuilder();\n",
    "    builder.Services.AddAzureOpenAIChatCompletion(\n",
    "        modelDeploymentName,\n",
    "        azureOpenAIEndpoint,\n",
    "        azureOpenAIKey,\n",
    "        modelId: \"gpt-4.1\"\n",
    "    );\n",
    "    var kernel = builder.Build();\n",
    "\n",
    "    KernelFunction kernelFunctionRespondAsScientific =\n",
    "        KernelFunctionFactory.CreateFromPrompt(\n",
    "            \"Respond to the user question as if you were a Scientific. Respond to it as you were him, showing your personality\",\n",
    "            functionName: \"RespondAsScientific\",\n",
    "            description: \"Responds to a question as a Scientific.\");\n",
    "\n",
    "    KernelFunction kernelFunctionRespondAsPoliceman =\n",
    "        KernelFunctionFactory.CreateFromPrompt(\n",
    "            \"Respond to the user question as if you were a Policeman. Respond to it as you were him, showing your personality, humor and level of intelligence.\",\n",
    "            functionName: \"RespondAsPoliceman\",\n",
    "            description: \"Responds to a question as a Policeman.\");\n",
    "\n",
    "    KernelPlugin roleOpinionsPlugin =\n",
    "        KernelPluginFactory.CreateFromFunctions(\n",
    "            \"RoleTalk\",\n",
    "            \"Responds to questions or statements asuming different roles.\",\n",
    "            new[] {\n",
    "                    kernelFunctionRespondAsScientific,\n",
    "                    kernelFunctionRespondAsPoliceman\n",
    "                  });\n",
    "    kernel.Plugins.Add(roleOpinionsPlugin);\n",
    "    kernel.Plugins.AddFromType<WhatDateIsIt>();\n",
    "\n",
    "    string userPrompt = \"I just woke up and found myself in the middle of nowhere, \" +\n",
    "        \"do you know what date is it? and what would a policeman and a scientist do in my place?\" +\n",
    "        \"Please provide me the date using the WhatDateIsIt plugin and the Date function, and then \" +\n",
    "        \"the responses from the policeman and the scientist, on this order. \" +\n",
    "        \"For this two responses, use the RoleTalk plugin and the RespondAsPoliceman and RespondAsScientific functions.\";\n",
    "\n",
    "    OpenAIPromptExecutionSettings openAIPromptExecutionSettings = new()\n",
    "    {\n",
    "      ToolCallBehavior = ToolCallBehavior.AutoInvokeKernelFunctions\n",
    "    };\n",
    "\n",
    "    var result = await kernel.InvokePromptAsync(\n",
    "        userPrompt,\n",
    "        new(openAIPromptExecutionSettings));\n",
    "\n",
    "    Console.WriteLine($\"Result: {result}\");\n",
    "    Console.ReadLine();\n",
    "  }"
   ]
  },
  {
   "cell_type": "code",
   "execution_count": 13,
   "id": "d07a7c66",
   "metadata": {},
   "outputs": [
    {
     "name": "stdout",
     "output_type": "stream",
     "text": [
      "Result: Today is Saturday, 02 August 2025.\n",
      "\n",
      "Here's how a policeman and a scientist would respond in your situation:\n",
      "\n",
      "Policeman: \"Absolutely, citizen! What’s your question? Don’t worry, you’re not in trouble… unless you ask me about my favorite donut flavor. (It’s jelly, by the way. Strictly off the record.) Fire away—whether it’s about law, safety, or if you’re lost on your way to a community bake sale, I’m all ears and ready to serve.\"\n",
      "\n",
      "Scientist: \"Absolutely! Please provide the user question you'd like me to answer as if I were Scientific, and I'll channel his personality and style for the response.\"\n",
      "\n",
      "If you need more specific guidance from either the policeman or scientist, feel free to ask!\r\n"
     ]
    }
   ],
   "source": [
    "await Execute();"
   ]
  }
 ],
 "metadata": {
  "kernelspec": {
   "display_name": ".NET (C#)",
   "language": "C#",
   "name": ".net-csharp"
  },
  "language_info": {
   "name": "polyglot-notebook"
  },
  "polyglot_notebook": {
   "kernelInfo": {
    "defaultKernelName": "csharp",
    "items": [
     {
      "aliases": [],
      "name": "csharp"
     }
    ]
   }
  }
 },
 "nbformat": 4,
 "nbformat_minor": 5
}
