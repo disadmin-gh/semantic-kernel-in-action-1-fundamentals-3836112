{
 "cells": [
  {
   "cell_type": "code",
   "execution_count": 4,
   "metadata": {
    "language_info": {
     "name": "polyglot-notebook"
    },
    "polyglot_notebook": {
     "kernelName": "csharp"
    }
   },
   "outputs": [
    {
     "data": {
      "text/html": [
       "<div><div></div><div></div><div><strong>Installed Packages</strong><ul><li><span>Microsoft.SemanticKernel, 1.61.0</span></li></ul></div></div>"
      ]
     },
     "metadata": {},
     "output_type": "display_data"
    },
    {
     "ename": "Error",
     "evalue": "(4,32): error CS0234: The type or namespace name 'Planning' does not exist in the namespace 'Microsoft.SemanticKernel' (are you missing an assembly reference?)",
     "output_type": "error",
     "traceback": [
      "(4,32): error CS0234: The type or namespace name 'Planning' does not exist in the namespace 'Microsoft.SemanticKernel' (are you missing an assembly reference?)"
     ]
    }
   ],
   "source": [
    "#r \"nuget: Microsoft.SemanticKernel, *\"\n",
    "//#r \"nuget: Microsoft.SemanticKernel.Planners.FunctionCallingStepwisePlanner, *\"\n",
    "\n",
    "using Microsoft.SemanticKernel;\n",
    "using Microsoft.SemanticKernel.Planning;\n",
    "using Microsoft.SemanticKernel.ChatCompletion;\n",
    "using System.ComponentModel;\n",
    "using System.IO;\n",
    "\n",
    "\n",
    "class EnvLoader\n",
    "{\n",
    "    public static void Load(string filePath = \".env\")\n",
    "    {\n",
    "        if (!File.Exists(filePath))\n",
    "        {\n",
    "            Console.WriteLine($\"⚠️ File '{filePath}' not found.\");\n",
    "            return;\n",
    "        }\n",
    "\n",
    "        foreach (var line in File.ReadAllLines(filePath))\n",
    "        {\n",
    "            var trimmed = line.Trim();\n",
    "\n",
    "            // Skip empty lines and comments\n",
    "            if (string.IsNullOrWhiteSpace(trimmed) || trimmed.StartsWith(\"#\"))\n",
    "                continue;\n",
    "\n",
    "            var parts = trimmed.Split('=', 2); // Only split at the first '='\n",
    "            if (parts.Length == 2)\n",
    "            {\n",
    "                var key = parts[0].Trim();\n",
    "                var value = parts[1].Trim().Trim('\"'); // Remove surrounding quotes\n",
    "                Environment.SetEnvironmentVariable(key, value);\n",
    "            }\n",
    "        }\n",
    "    }\n",
    "}\n"
   ]
  },
  {
   "cell_type": "code",
   "execution_count": 30,
   "metadata": {
    "language_info": {
     "name": "polyglot-notebook"
    },
    "polyglot_notebook": {
     "kernelName": "csharp"
    }
   },
   "outputs": [
    {
     "name": "stdout",
     "output_type": "stream",
     "text": [
      "modelId: gpt-4.1\n",
      "endPoint: https://dis-azopen-ai.openai.azure.com/\n",
      "apiKey: 7vddAIvhIyaYiOumOwzB2Anip91Y2JHlKjEt5y5JEAEry4nfbVQqJQQJ99BGACHYHv6XJ3w3AAABACOGaCg3\n"
     ]
    }
   ],
   "source": [
    "EnvLoader.Load(); // Loads from .env\n",
    "\n",
    "// Example: retrieve a specific environment variable\n",
    "string modelId = Environment.GetEnvironmentVariable(\"modelId\");\n",
    "string endPoint = Environment.GetEnvironmentVariable(\"endPoint\");\n",
    "string apiKey = Environment.GetEnvironmentVariable(\"apiKey\");\n",
    "Console.WriteLine($\"modelId: {modelId}\");\n",
    "Console.WriteLine($\"endPoint: {endPoint}\");\n",
    "Console.WriteLine($\"apiKey: {apiKey}\");\n"
   ]
  },
  {
   "cell_type": "code",
   "execution_count": 31,
   "metadata": {
    "language_info": {
     "name": "polyglot-notebook"
    },
    "polyglot_notebook": {
     "kernelName": "csharp"
    }
   },
   "outputs": [],
   "source": [
    "class LightPlugin\n",
    "{\n",
    "    public bool IsOn { get; set; }\n",
    "\n",
    "    [KernelFunction, Description(\"Gets the state of the light.\")]\n",
    "    public string GetState() => IsOn ? \"on\" : \"off\";\n",
    "\n",
    "    [KernelFunction, Description(\"Changes the state of the light.'\")]\n",
    "    public string ChangeState(bool newState)\n",
    "    {\n",
    "        IsOn = newState;\n",
    "        var state = GetState();\n",
    "\n",
    "        // Print the state to the console\n",
    "        Console.ForegroundColor = ConsoleColor.DarkBlue;\n",
    "        Console.WriteLine($\"[Light is now {state}]\");\n",
    "        Console.ResetColor();\n",
    "\n",
    "        return state;\n",
    "    }\n",
    "}"
   ]
  },
  {
   "cell_type": "code",
   "execution_count": 32,
   "metadata": {
    "language_info": {
     "name": "polyglot-notebook"
    },
    "polyglot_notebook": {
     "kernelName": "csharp"
    }
   },
   "outputs": [],
   "source": [
    "var builder = Kernel.CreateBuilder();\n",
    "builder.Services.AddAzureOpenAIChatCompletion(\n",
    "    modelId,\n",
    "    endPoint,\n",
    "    apiKey\n",
    ");\n",
    "builder.Plugins.AddFromType<LightPlugin>();\n",
    "\n",
    "\n",
    "Kernel kernel = builder.Build();"
   ]
  },
  {
   "cell_type": "code",
   "execution_count": 35,
   "metadata": {
    "language_info": {
     "name": "polyglot-notebook"
    },
    "polyglot_notebook": {
     "kernelName": "csharp"
    }
   },
   "outputs": [
    {
     "ename": "Error",
     "evalue": "(4,5): error CS0117: 'OpenAIPromptExecutionSettings' does not contain a definition for 'FunctionCallBehavior'\r\n(4,28): error CS0103: The name 'FunctionCallBehavior' does not exist in the current context",
     "output_type": "error",
     "traceback": [
      "(4,5): error CS0117: 'OpenAIPromptExecutionSettings' does not contain a definition for 'FunctionCallBehavior'\r\n",
      "(4,28): error CS0103: The name 'FunctionCallBehavior' does not exist in the current context"
     ]
    }
   ],
   "source": [
    "// Enable auto invocation of kernel functions\n",
    "OpenAIPromptExecutionSettings settings = new()\n",
    "{\n",
    "    FunctionCallBehavior = FunctionCallBehavior.AutoInvokeKernelFunctions\n",
    "};\n",
    "\n",
    "// Start a chat session\n",
    "while (true)\n",
    "{\n",
    "    // Get the user's message\n",
    "    Console.Write(\"User > \");\n",
    "    var userMessage = Console.ReadLine()!;\n",
    "\n",
    "    // Invoke the kernel\n",
    "    var results = await kernel.InvokePromptAsync(userMessage, new(settings));\n",
    "\n",
    "    // Print the results\n",
    "Console.WriteLine($\"Assistant > {results}\");\n",
    "}"
   ]
  },
  {
   "cell_type": "code",
   "execution_count": null,
   "metadata": {
    "language_info": {
     "name": "polyglot-notebook"
    },
    "polyglot_notebook": {
     "kernelName": "csharp"
    }
   },
   "outputs": [
    {
     "ename": "Error",
     "evalue": "(16,72): error CS0246: The type or namespace name 'ChatCompletionsFunctionToolCall' could not be found (are you missing a using directive or an assembly reference?)",
     "output_type": "error",
     "traceback": [
      "(16,72): error CS0246: The type or namespace name 'ChatCompletionsFunctionToolCall' could not be found (are you missing a using directive or an assembly reference?)"
     ]
    }
   ],
   "source": [
    "// Enable manual function calling\n",
    "OpenAIPromptExecutionSettings openAIPromptExecutionSettings = new()\n",
    "{\n",
    "    ToolCallBehavior = ToolCallBehavior.EnableKernelFunctions\n",
    "};\n",
    "\n",
    "// Get the chat completions\n",
    "var result = await chatCompletionService.GetChatMessageContentAsync(\n",
    "    new ChatHistory(\"Turn on the lights\"),\n",
    "    executionSettings: openAIPromptExecutionSettings,\n",
    "    kernel: kernel);\n",
    "// If a valid function was found, execute it\n",
    "var functionCall = ((OpenAIChatMessageContent)result).ToolCalls.OfType<ChatCompletionsFunctionToolCall>().FirstOrDefault();\n",
    "if (functionCall != null)\n",
    "{\n",
    "    kernel.Plugins.TryGetFunctionAndArguments(functionCall, out KernelFunction? pluginFunction, out KernelArguments? arguments);\n",
    "    await pluginFunction.InvokeAsync(kernel, arguments);\n",
    "}"
   ]
  },
  {
   "cell_type": "code",
   "execution_count": 5,
   "metadata": {
    "language_info": {
     "name": "polyglot-notebook"
    },
    "polyglot_notebook": {
     "kernelName": "csharp"
    }
   },
   "outputs": [
    {
     "ename": "Error",
     "evalue": "(58,23): error CS0246: The type or namespace name 'FunctionCallingStepwisePlanner' could not be found (are you missing a using directive or an assembly reference?)\r\n(59,5): error CS0246: The type or namespace name 'FunctionCallingStepwisePlannerResult' could not be found (are you missing a using directive or an assembly reference?)",
     "output_type": "error",
     "traceback": [
      "(58,23): error CS0246: The type or namespace name 'FunctionCallingStepwisePlanner' could not be found (are you missing a using directive or an assembly reference?)\r\n",
      "(59,5): error CS0246: The type or namespace name 'FunctionCallingStepwisePlannerResult' could not be found (are you missing a using directive or an assembly reference?)"
     ]
    }
   ],
   "source": [
    "  var kernelFunctionRespondAsScientific = kernel.CreateFunctionFromPrompt(\n",
    "        new PromptTemplateConfig()\n",
    "        {\n",
    "          Name = \"RespondAsScientific\",\n",
    "          Description = \"Respond as if you were a Scientific.\",\n",
    "          Template = @\"After the user request/question, \n",
    "                    {{$input}},\n",
    "                    Respond to the user question as if you were a Scientific. \n",
    "                    Respond to it as you were him, showing your personality\",\n",
    "          TemplateFormat = \"semantic-kernel\",\n",
    "          InputVariables = [\n",
    "                new() { Name = \"input\" }\n",
    "            ]\n",
    "        });\n",
    "\n",
    "    var kernelFunctionRespondAsPoliceman = kernel.CreateFunctionFromPrompt(\n",
    "        new PromptTemplateConfig()\n",
    "        {\n",
    "          Name = \"RespondAsPoliceman\",\n",
    "          Description = \"Respond as if you were a Policeman.\",\n",
    "          Template = @\"After the user request/question, \n",
    "                    {{$input}},\n",
    "                    Respond to the user question as if you were a Policeman, showing your personality, \n",
    "                    humor and level of intelligence.\",\n",
    "          TemplateFormat = \"semantic-kernel\",\n",
    "          InputVariables = [\n",
    "                new() { Name = \"input\" }\n",
    "            ]\n",
    "        });\n",
    "\n",
    "    KernelPlugin roleOpinionsPlugin =\n",
    "        KernelPluginFactory.CreateFromFunctions(\n",
    "            \"roleTalk\",\n",
    "            \"Responds to questions or statements asuming different roles.\",\n",
    "            new[] {\n",
    "                    kernelFunctionRespondAsScientific,\n",
    "                    kernelFunctionRespondAsPoliceman\n",
    "                  });\n",
    "    kernel.Plugins.Add(roleOpinionsPlugin);\n",
    "\n",
    "    string planPrompt = \"This is the user question to my expert friends:\" +\n",
    "        \"---\" +\n",
    "        \"User Question: \" +\n",
    "        \"I am being attacked by a thug which wants to rob me, what do the superheroes recommend me to do in my position? I am weak, no combat skills and not a good runner... \" +\n",
    "        \"---\" +\n",
    "        \"Please take this question as input for getting the expert opinions, Mr. Policeman, Scientist suggestions. Do not modify the input.\" +\n",
    "        \"Use the plugin roleTalk to get the suggestions and opinions of the experts.\" +\n",
    "        \"In addition state each expert opinion on each other stated opinions.\" +\n",
    "        \"Put the expert responses preceded with EXPERT SUGGESTIONS: and inside that preceed with Policeman: and Scientist: for clarity.\" +\n",
    "        \"Perform this with the following steps: \" +\n",
    "        \"1. Get the suggestions from each the experts.\" +\n",
    "        \"2. Get the opinions of each expert on the other expert suggestions.\" +\n",
    "        \"3. Return the results in the format: \" +\n",
    "        \"Expert SUGGESTIONS: Policeman: <suggestion> Scientist: <suggestion> \" +\n",
    "        \"OPINIONS: Policeman: <opinion on Scientist> Scientist: <opinion on Policeman> \" +\n",
    "        \"IMPORTANT: on the plan ensure that the user question is asigned to a variable and used as input. Do not modify the user question input.\";\n",
    "\n",
    "    var planner = new FunctionCallingStepwisePlanner();\n",
    "    FunctionCallingStepwisePlannerResult result =\n",
    "        await planner.ExecuteAsync(kernel, planPrompt);\n",
    "\n",
    "    // Print the result to the console\n",
    "    Console.WriteLine($\"Result: {result.FinalAnswer}\");\n",
    "    Console.WriteLine($\"Iterations needed: {result.Iterations}\");\n",
    "\n",
    "    //print the Contents of ChatHistory\n",
    "    ChatHistory chatMessageContents = result.ChatHistory;\n",
    "\n",
    "    foreach (var chatMessage in chatMessageContents)\n",
    "    {\n",
    "      Console.WriteLine($\"ChatMessage: {chatMessage}\");\n",
    "    }\n",
    "\n",
    "    Console.ReadLine();\n"
   ]
  },
  {
   "cell_type": "code",
   "execution_count": 20,
   "metadata": {
    "language_info": {
     "name": "polyglot-notebook"
    },
    "polyglot_notebook": {
     "kernelName": "csharp"
    }
   },
   "outputs": [],
   "source": [
    "// Create chat history\n",
    "\n",
    "var history = new ChatHistory(\"You are a mischievous and jovial assistant. You will crack jokes when a user supplies a prompt.\");"
   ]
  },
  {
   "cell_type": "code",
   "execution_count": null,
   "metadata": {
    "language_info": {
     "name": "polyglot-notebook"
    },
    "polyglot_notebook": {
     "kernelName": "csharp"
    }
   },
   "outputs": [],
   "source": [
    "ChatHistory chatMessages = new ChatHistory(\"You are a friendly. You will complete required steps to the best of your knowledge. If the user doesn't provide enough information for you to complete a task however, you will ask clarifying questions until you have enough information to complete said task.\");"
   ]
  },
  {
   "cell_type": "code",
   "execution_count": 7,
   "metadata": {
    "language_info": {
     "name": "polyglot-notebook"
    },
    "polyglot_notebook": {
     "kernelName": "csharp"
    }
   },
   "outputs": [],
   "source": [
    "// Get chat completion service\n",
    "\n",
    "var chatCompletionService = kernel.GetRequiredService<IChatCompletionService>();"
   ]
  }
 ],
 "metadata": {
  "kernelspec": {
   "display_name": ".NET (C#)",
   "language": "C#",
   "name": ".net-csharp"
  },
  "language_info": {
   "name": "polyglot-notebook"
  },
  "polyglot_notebook": {
   "kernelInfo": {
    "defaultKernelName": "csharp",
    "items": [
     {
      "aliases": [],
      "name": "csharp"
     }
    ]
   }
  }
 },
 "nbformat": 4,
 "nbformat_minor": 5
}
