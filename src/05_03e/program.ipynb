{
 "cells": [
  {
   "cell_type": "code",
   "execution_count": 13,
   "metadata": {
    "language_info": {
     "name": "polyglot-notebook"
    },
    "polyglot_notebook": {
     "kernelName": "csharp"
    }
   },
   "outputs": [
    {
     "data": {
      "text/html": [
       "<div><div></div><div></div><div><strong>Installed Packages</strong><ul><li><span>Microsoft.SemanticKernel, 1.61.0</span></li><li><span>Microsoft.SemanticKernel.Experimental.Agents, 1.18.1-alpha</span></li></ul></div></div>"
      ]
     },
     "metadata": {},
     "output_type": "display_data"
    }
   ],
   "source": [
    "#r \"nuget: Microsoft.SemanticKernel, *\"\n",
    "#r \"nuget: Microsoft.SemanticKernel.Experimental.Agents, 1.18.1-alpha\"\n",
    "\n",
    "using Microsoft.SemanticKernel;\n",
    "using Microsoft.SemanticKernel.ChatCompletion;\n",
    "using Microsoft.SemanticKernel.Experimental.Agents;\n",
    "using System.IO;\n",
    "using System.Linq;\n",
    "\n",
    "class EnvLoader\n",
    "{\n",
    "    public static void Load(string filePath = \".env\")\n",
    "    {\n",
    "        if (!File.Exists(filePath))\n",
    "        {\n",
    "            Console.WriteLine($\"⚠️ File '{filePath}' not found.\");\n",
    "            return;\n",
    "        }\n",
    "\n",
    "        foreach (var line in File.ReadAllLines(filePath))\n",
    "        {\n",
    "            var trimmed = line.Trim();\n",
    "\n",
    "            // Skip empty lines and comments\n",
    "            if (string.IsNullOrWhiteSpace(trimmed) || trimmed.StartsWith(\"#\"))\n",
    "                continue;\n",
    "\n",
    "            var parts = trimmed.Split('=', 2); // Only split at the first '='\n",
    "            if (parts.Length == 2)\n",
    "            {\n",
    "                var key = parts[0].Trim();\n",
    "                var value = parts[1].Trim().Trim('\"'); // Remove surrounding quotes\n",
    "                Environment.SetEnvironmentVariable(key, value);\n",
    "            }\n",
    "        }\n",
    "    }\n",
    "}\n"
   ]
  },
  {
   "cell_type": "code",
   "execution_count": 14,
   "metadata": {
    "language_info": {
     "name": "polyglot-notebook"
    },
    "polyglot_notebook": {
     "kernelName": "csharp"
    }
   },
   "outputs": [
    {
     "name": "stdout",
     "output_type": "stream",
     "text": [
      "modelId: gpt-4.1\n",
      "endPoint: https://dis-azopen-ai.openai.azure.com/\n",
      "apiKey: 7vddAIvhIyaYiOumOwzB2Anip91Y2JHlKjEt5y5JEAEry4nfbVQqJQQJ99BGACHYHv6XJ3w3AAABACOGaCg3\n"
     ]
    }
   ],
   "source": [
    "EnvLoader.Load(); // Loads from .env\n",
    "\n",
    "// Example: retrieve a specific environment variable\n",
    "string modelId = Environment.GetEnvironmentVariable(\"modelId\");\n",
    "string endPoint = Environment.GetEnvironmentVariable(\"endPoint\");\n",
    "string apiKey = Environment.GetEnvironmentVariable(\"apiKey\");\n",
    "Console.WriteLine($\"modelId: {modelId}\");\n",
    "Console.WriteLine($\"endPoint: {endPoint}\");\n",
    "Console.WriteLine($\"apiKey: {apiKey}\");\n"
   ]
  },
  {
   "cell_type": "code",
   "execution_count": 15,
   "id": "78e14b61",
   "metadata": {
    "language_info": {
     "name": "polyglot-notebook"
    },
    "polyglot_notebook": {
     "kernelName": "csharp"
    }
   },
   "outputs": [],
   "source": [
    "var builder = Kernel.CreateBuilder();\n",
    "            builder.Services.AddAzureOpenAIChatCompletion(\n",
    "                modelId,\n",
    "                endPoint,\n",
    "                apiKey\n",
    "            );\n",
    "\n",
    "            var kernel = builder.Build();"
   ]
  },
  {
   "cell_type": "code",
   "execution_count": 16,
   "metadata": {
    "language_info": {
     "name": "polyglot-notebook"
    },
    "polyglot_notebook": {
     "kernelName": "csharp"
    }
   },
   "outputs": [],
   "source": [
    " #pragma warning disable SKEXP0101  \n",
    "  // Track agents for clean-up\n",
    "  readonly List<IAgent> _agents = new();\n",
    "\n",
    "  IAgentThread? _agentsThread = null;\n",
    " \n"
   ]
  },
  {
   "cell_type": "code",
   "execution_count": 19,
   "metadata": {
    "language_info": {
     "name": "polyglot-notebook"
    },
    "polyglot_notebook": {
     "kernelName": "csharp"
    }
   },
   "outputs": [],
   "source": [
    "  private async Task CleanUpAsync()\n",
    "  {\n",
    "    Console.WriteLine(\"🧽 Cleaning up ...\");\n",
    "\n",
    "        if (_agentsThread != null)\n",
    "        {\n",
    "          Console.WriteLine(\"Thread going away ...\");\n",
    "    #pragma warning disable SKEXP0101\n",
    "          await _agentsThread.DeleteAsync();\n",
    "    #pragma warning restore SKEXP0101\n",
    "          _agentsThread = null;\n",
    "        }\n",
    "\n",
    "    if (_agents.Any())\n",
    "    {\n",
    "      Console.WriteLine(\"Agents going away ...\");\n",
    "    #pragma warning disable SKEXP0101\n",
    "      await Task.WhenAll(_agents.Select(agent => agent.DeleteAsync()));\n",
    "    #pragma warning restore SKEXP0101\n",
    "      _agents.Clear();\n",
    "    }\n",
    "  }\n"
   ]
  },
  {
   "cell_type": "code",
   "execution_count": null,
   "metadata": {
    "language_info": {
     "name": "polyglot-notebook"
    },
    "polyglot_notebook": {
     "kernelName": "csharp"
    }
   },
   "outputs": [],
   "source": [
    "async Task Execute()\n",
    "{\n",
    "    #pragma warning disable SKEXP0101\n",
    "    // create agent in code\n",
    "    var codeAgent = await new AgentBuilder()\n",
    "        .WithOpenAIChatCompletion(modelId, apiKey)\n",
    "        .WithInstructions(\"Repeat the user message in the voice of a pirate \" +\n",
    "                          \"and then end with parrot sounds.\")\n",
    "        .WithName(\"CodeParrot\")\n",
    "        .WithDescription(\"A fun chat bot that repeats the user message in the\" +\n",
    "                         \" voice of a pirate.\")\n",
    "        .BuildAsync();\n",
    "    _agents.Add(codeAgent);\n",
    "\n",
    "    // Create agent from file\n",
    "    var pathToPlugin = Path.Combine(Directory.GetCurrentDirectory(), \"Agents\", \"ParrotAgent.yaml\");\n",
    "    string agentDefinition = File.ReadAllText(pathToPlugin);\n",
    "    var fileAgent = await new AgentBuilder()\n",
    "        .WithOpenAIChatCompletion(modelId, apiKey)\n",
    "        .FromTemplatePath(pathToPlugin)\n",
    "        .BuildAsync();\n",
    "    _agents.Add(fileAgent);\n",
    "    #pragma warning restore SKEXP0101\n",
    "\n",
    "    try\n",
    "    {\n",
    "        // Invoke agent plugin.\n",
    "        #pragma warning disable SKEXP0101\n",
    "        var response =\n",
    "            await fileAgent.AsPlugin().InvokeAsync(\n",
    "                \"Practice makes perfect.\",\n",
    "                new KernelArguments { { \"count\", 2 } }\n",
    "            );\n",
    "        #pragma warning restore SKEXP0101\n",
    "\n",
    "        // Display result.\n",
    "        #pragma warning disable SKEXP0101\n",
    "        Console.WriteLine(response ?? $\"No response from agent: {fileAgent.Id}\");\n",
    "        #pragma warning restore SKEXP0101\n",
    "    }\n",
    "    finally\n",
    "    {\n",
    "        // Clean-up (storage costs $)\n",
    "        await CleanUpAsync();\n",
    "        #pragma warning disable SKEXP0101\n",
    "        await fileAgent.DeleteAsync();\n",
    "        await codeAgent.DeleteAsync();\n",
    "        #pragma warning restore SKEXP0101\n",
    "    }\n",
    "\n",
    "    Console.ReadLine();\n",
    "}"
   ]
  }
 ],
 "metadata": {
  "kernelspec": {
   "display_name": ".NET (C#)",
   "language": "C#",
   "name": ".net-csharp"
  },
  "language_info": {
   "name": "polyglot-notebook"
  },
  "polyglot_notebook": {
   "kernelInfo": {
    "defaultKernelName": "csharp",
    "items": [
     {
      "aliases": [],
      "name": "csharp"
     }
    ]
   }
  }
 },
 "nbformat": 4,
 "nbformat_minor": 5
}
