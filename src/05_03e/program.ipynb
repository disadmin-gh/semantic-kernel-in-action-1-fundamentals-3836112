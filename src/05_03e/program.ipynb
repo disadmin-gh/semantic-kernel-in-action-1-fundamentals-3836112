{
 "cells": [
  {
   "cell_type": "code",
   "execution_count": 3,
   "metadata": {
    "language_info": {
     "name": "polyglot-notebook"
    },
    "polyglot_notebook": {
     "kernelName": "csharp"
    }
   },
   "outputs": [
    {
     "data": {
      "text/html": [
       "<div><div></div><div></div><div><strong>Installed Packages</strong><ul><li><span>Microsoft.SemanticKernel, 1.61.0</span></li></ul></div></div>"
      ]
     },
     "metadata": {},
     "output_type": "display_data"
    }
   ],
   "source": [
    "#r \"nuget: Microsoft.SemanticKernel, *\"\n",
    "\n",
    "\n",
    "using Microsoft.SemanticKernel;\n",
    "using System.IO;\n",
    "using System.Linq;\n",
    "\n",
    "class EnvLoader\n",
    "{\n",
    "    public static void Load(string filePath = \".env\")\n",
    "    {\n",
    "        if (!File.Exists(filePath))\n",
    "        {\n",
    "            Console.WriteLine($\"⚠️ File '{filePath}' not found.\");\n",
    "            return;\n",
    "        }\n",
    "\n",
    "        foreach (var line in File.ReadAllLines(filePath))\n",
    "        {\n",
    "            var trimmed = line.Trim();\n",
    "\n",
    "            // Skip empty lines and comments\n",
    "            if (string.IsNullOrWhiteSpace(trimmed) || trimmed.StartsWith(\"#\"))\n",
    "                continue;\n",
    "\n",
    "            var parts = trimmed.Split('=', 2); // Only split at the first '='\n",
    "            if (parts.Length == 2)\n",
    "            {\n",
    "                var key = parts[0].Trim();\n",
    "                var value = parts[1].Trim().Trim('\"'); // Remove surrounding quotes\n",
    "                Environment.SetEnvironmentVariable(key, value);\n",
    "            }\n",
    "        }\n",
    "    }\n",
    "}\n"
   ]
  },
  {
   "cell_type": "code",
   "execution_count": 5,
   "metadata": {
    "language_info": {
     "name": "polyglot-notebook"
    },
    "polyglot_notebook": {
     "kernelName": "csharp"
    }
   },
   "outputs": [
    {
     "name": "stdout",
     "output_type": "stream",
     "text": [
      "modelId: gpt-4.1\n",
      "endPoint: https://dis-azopen-ai.openai.azure.com/\n",
      "apiKey: 7vddAIvhIyaYiOumOwzB2Anip91Y2JHlKjEt5y5JEAEry4nfbVQqJQQJ99BGACHYHv6XJ3w3AAABACOGaCg3\n"
     ]
    }
   ],
   "source": [
    "EnvLoader.Load(); // Loads from .env\n",
    "\n",
    "// Example: retrieve a specific environment variable\n",
    "string modelId = Environment.GetEnvironmentVariable(\"modelId\");\n",
    "string endPoint = Environment.GetEnvironmentVariable(\"endPoint\");\n",
    "string apiKey = Environment.GetEnvironmentVariable(\"apiKey\");\n",
    "Console.WriteLine($\"modelId: {modelId}\");\n",
    "Console.WriteLine($\"endPoint: {endPoint}\");\n",
    "Console.WriteLine($\"apiKey: {apiKey}\");\n"
   ]
  },
  {
   "cell_type": "code",
   "execution_count": 4,
   "metadata": {
    "language_info": {
     "name": "polyglot-notebook"
    },
    "polyglot_notebook": {
     "kernelName": "csharp"
    }
   },
   "outputs": [],
   "source": [
    " private Task<KernelFunction> CreateFunctionFromYamlAsync()\n",
    "  {\n",
    "    var pathToPlugin = Path.Combine(Directory.GetCurrentDirectory(), \"Agents\", \"ParrotAgent.yaml\");\n",
    "\n",
    "    // For now, let's create the function based on the YAML content manually\n",
    "    // The YAML approach isn't directly supported in current SK, so we'll simulate it\n",
    "    var template = \"Repeat the user message in the voice of a parrot and then end with {{$count}} parrot sounds that sound funny. User message: {{$input}}\";\n",
    "\n",
    "    var function = KernelFunctionFactory.CreateFromPrompt(\n",
    "        template,\n",
    "        functionName: \"ParrotFromFile\",\n",
    "        description: \"A fun chat agent that repeats the user message like a parrot would.\"\n",
    "    );\n",
    "\n",
    "    return Task.FromResult(function);\n",
    "  }"
   ]
  },
  {
   "cell_type": "code",
   "execution_count": 6,
   "metadata": {
    "language_info": {
     "name": "polyglot-notebook"
    },
    "polyglot_notebook": {
     "kernelName": "csharp"
    }
   },
   "outputs": [],
   "source": [
    "async Task Execute()\n",
    "  {\n",
    "    EnvLoader.Load(); // Loads from .env\n",
    "\n",
    "// Example: retrieve a specific environment variable\n",
    "    var modelId = Environment.GetEnvironmentVariable(\"modelId\");\n",
    "    var endPoint = Environment.GetEnvironmentVariable(\"endPoint\");\n",
    "    var apiKey = Environment.GetEnvironmentVariable(\"apiKey\");\n",
    "\n",
    "\n",
    "    var builder = Kernel.CreateBuilder();\n",
    "    builder.Services.AddAzureOpenAIChatCompletion(\n",
    "        modelId,\n",
    "        endPoint,\n",
    "        apiKey);\n",
    "    var kernel = builder.Build();\n",
    "\n",
    "    // Create a pirate parrot function using modern SK patterns\n",
    "    var pirateParrotFunction = KernelFunctionFactory.CreateFromPrompt(\n",
    "        \"Repeat the user message in the voice of a pirate and then end with parrot sounds. \" +\n",
    "        \"User message: {{$input}}\",\n",
    "        functionName: \"PirateParrot\",\n",
    "        description: \"A fun chat bot that repeats the user message in the voice of a pirate.\"\n",
    "    );\n",
    "\n",
    "    // Create a function from the YAML template\n",
    "    var parrotFromFileFunction = await CreateFunctionFromYamlAsync();\n",
    "\n",
    "    try\n",
    "    {\n",
    "      Console.WriteLine(\"=== Testing Code-Based Pirate Parrot ===\");\n",
    "      var codeResponse = await kernel.InvokeAsync(pirateParrotFunction,\n",
    "          new KernelArguments { [\"input\"] = \"Practice makes perfect.\" });\n",
    "      Console.WriteLine($\"Code Agent Response: {codeResponse}\");\n",
    "\n",
    "      Console.WriteLine(\"\\n=== Testing File-Based Parrot ===\");\n",
    "      var fileResponse = await kernel.InvokeAsync(parrotFromFileFunction,\n",
    "          new KernelArguments\n",
    "          {\n",
    "            [\"input\"] = \"Practice makes perfect.\",\n",
    "            [\"count\"] = \"2\"\n",
    "          });\n",
    "      Console.WriteLine($\"File Agent Response: {fileResponse}\");\n",
    "    }\n",
    "    catch (Exception ex)\n",
    "    {\n",
    "      Console.WriteLine($\"Error: {ex.Message}\");\n",
    "    }\n",
    "\n",
    "    Console.WriteLine(\"\\nPress any key to exit...\");\n",
    "    Console.ReadLine();\n",
    "  }"
   ]
  },
  {
   "cell_type": "code",
   "execution_count": 7,
   "metadata": {
    "language_info": {
     "name": "polyglot-notebook"
    },
    "polyglot_notebook": {
     "kernelName": "csharp"
    }
   },
   "outputs": [
    {
     "name": "stdout",
     "output_type": "stream",
     "text": [
      "=== Testing Code-Based Pirate Parrot ===\n",
      "Code Agent Response: Arrr, practice be makin’ ye perfect, matey! Squawk! Pieces of eight! Squawk!\n",
      "\n",
      "=== Testing File-Based Parrot ===\n",
      "File Agent Response: Practice makes perfect! Squawk! Practice makes perfect! Ka-kaw! Polly wanna cracker? SquEEEk! Caw-caw!\n",
      "\n",
      "Press any key to exit...\n"
     ]
    }
   ],
   "source": [
    "await Execute();"
   ]
  }
 ],
 "metadata": {
  "kernelspec": {
   "display_name": ".NET (C#)",
   "language": "C#",
   "name": ".net-csharp"
  },
  "language_info": {
   "name": "polyglot-notebook"
  },
  "polyglot_notebook": {
   "kernelInfo": {
    "defaultKernelName": "csharp",
    "items": [
     {
      "aliases": [],
      "name": "csharp"
     }
    ]
   }
  }
 },
 "nbformat": 4,
 "nbformat_minor": 5
}
