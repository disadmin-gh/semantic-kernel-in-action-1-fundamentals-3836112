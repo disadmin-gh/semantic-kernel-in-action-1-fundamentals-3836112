{
 "cells": [
  {
   "cell_type": "code",
   "execution_count": 27,
   "id": "db3b0e8d",
   "metadata": {
    "language_info": {
     "name": "polyglot-notebook"
    },
    "polyglot_notebook": {
     "kernelName": "csharp"
    }
   },
   "outputs": [
    {
     "name": "stdout",
     "output_type": "stream",
     "text": [
      "✅ Loaded .env from: d:\\VSC\\semantic-kernel-in-action-1-fundamentals-3836112\\src\\.env\n",
      "🔑 Configuration loaded successfully!\n",
      "Azure OpenAI Endpoint: https://dis-openai-0705.openai.azure.com/\n",
      "Deployment Name: gpt-4.1\n",
      "API Key: ✅ Loaded (hidden)\n"
     ]
    }
   ],
   "source": [
    "// Load the EnvConfigHelper class from our project\n",
    "#load \"../EnvConfigHelper.cs\"\n",
    "\n",
    "  // Load configuration from .env file\n",
    "  var modelDeploymentName = EnvConfigHelper.AzureOpenAIDeploymentName;\n",
    "  var azureOpenAIEndpoint = EnvConfigHelper.AzureOpenAIEndpoint;\n",
    "  var azureOpenAIKey = EnvConfigHelper.AzureOpenAIKey;\n",
    "\n",
    "\n",
    "// Display loaded configuration (without sensitive data)\n",
    "Console.WriteLine(\"🔑 Configuration loaded successfully!\");\n",
    "Console.WriteLine($\"Azure OpenAI Endpoint: {azureOpenAIEndpoint}\");\n",
    "Console.WriteLine($\"Deployment Name: {modelDeploymentName}\");\n",
    "Console.WriteLine($\"API Key: {(string.IsNullOrEmpty(azureOpenAIKey) ? \"❌ Not loaded\" : \"✅ Loaded (hidden)\")}\");"
   ]
  },
  {
   "cell_type": "code",
   "execution_count": 28,
   "metadata": {
    "language_info": {
     "name": "polyglot-notebook"
    },
    "polyglot_notebook": {
     "kernelName": "csharp"
    }
   },
   "outputs": [
    {
     "data": {
      "text/html": [
       "<div><div></div><div></div><div><strong>Installed Packages</strong><ul><li><span>microsoft.extensions.dependencyinjection.abstractions, 9.0.6</span></li><li><span>Microsoft.SemanticKernel, 1.60.0</span></li><li><span>System.Net.Http, 4.3.4</span></li></ul></div></div>"
      ]
     },
     "metadata": {},
     "output_type": "display_data"
    }
   ],
   "source": [
    "#r \"nuget: Microsoft.SemanticKernel, *\"\n",
    "#r \"nuget: Microsoft.Extensions.DependencyInjection.Abstractions, *\"\n",
    "#r \"nuget: System.Net.Http, *\"\n",
    "using Microsoft.SemanticKernel;\n",
    "using System.IO;\n",
    "\n",
    " private static string someText = \"Effective prompt design is essential to achieving desired outcomes with LLM AI models. Prompt engineering, also known as prompt design, is an emerging field that requires creativity and attention to detail. It involves selecting the right words, phrases, symbols, and formats that guide the model in generating high-quality and relevant texts.\\r\\n\\r\\nIf you've already experimented with ChatGPT, you can see how the model's behavior changes dramatically based on the inputs you provide. For example, the following prompts produce very different outputs:\";"
   ]
  },
  {
   "cell_type": "code",
   "execution_count": 29,
   "metadata": {
    "language_info": {
     "name": "polyglot-notebook"
    },
    "polyglot_notebook": {
     "kernelName": "csharp"
    }
   },
   "outputs": [],
   "source": [
    " public static async Task CreateAndExecuteAPrompt(Kernel kernel)\n",
    "  {\n",
    "    var prompt = \"What is the future of AI Agents?\";\n",
    "    var kernelFunction = kernel.CreateFunctionFromPrompt(prompt);\n",
    "    var result = await kernelFunction.InvokeAsync(kernel);\n",
    "\n",
    "    Console.WriteLine(result);\n",
    "  }"
   ]
  },
  {
   "cell_type": "code",
   "execution_count": 30,
   "metadata": {
    "language_info": {
     "name": "polyglot-notebook"
    },
    "polyglot_notebook": {
     "kernelName": "csharp"
    }
   },
   "outputs": [],
   "source": [
    " public static async Task ImportPluginFromFolderAndExecuteIt(Kernel kernel)\n",
    "  {\n",
    "    // Import a plugin from a prompt directory\n",
    "    var SummarizePluginDirectory = Path.Combine(\n",
    "        System.IO.Directory.GetCurrentDirectory(),\n",
    "        \"plugins\",\n",
    "        \"SummarizePlugin\");\n",
    "    kernel.ImportPluginFromPromptDirectory(SummarizePluginDirectory);\n",
    "\n",
    "    var summarizeResult =\n",
    "        await kernel.InvokeAsync(\n",
    "          \"SummarizePlugin\",\n",
    "          \"Summarize\",\n",
    "          new() {\n",
    "            { \"input\", someText }\n",
    "          });\n",
    "\n",
    "    Console.WriteLine($\"Result:  {summarizeResult}\");\n",
    "  }"
   ]
  },
  {
   "cell_type": "code",
   "execution_count": 31,
   "metadata": {
    "language_info": {
     "name": "polyglot-notebook"
    },
    "polyglot_notebook": {
     "kernelName": "csharp"
    }
   },
   "outputs": [],
   "source": [
    "async Task Execute()\n",
    "{\n",
    "    try\n",
    "    {\n",
    "        var builder = Kernel.CreateBuilder();\n",
    "        builder.Services.AddAzureOpenAIChatCompletion(\n",
    "            modelDeploymentName,\n",
    "            azureOpenAIEndpoint,\n",
    "            azureOpenAIKey,\n",
    "            modelId: \"gpt-4.1\"\n",
    "        );\n",
    "        var kernel = builder.Build();\n",
    "\n",
    "        await CreateAndExecuteAPrompt(kernel);\n",
    "        await ImportPluginFromFolderAndExecuteIt(kernel);\n",
    "\n",
    "        // Output a result to the cell\n",
    "        Console.WriteLine(\"Execution completed successfully.\");\n",
    "    }\n",
    "    catch (Exception ex)\n",
    "    {\n",
    "        // Output any errors to the cell\n",
    "        Console.WriteLine($\"Error: {ex.Message}\");\n",
    "    }\n",
    "}"
   ]
  },
  {
   "cell_type": "code",
   "execution_count": 32,
   "metadata": {
    "language_info": {
     "name": "polyglot-notebook"
    },
    "polyglot_notebook": {
     "kernelName": "csharp"
    }
   },
   "outputs": [
    {
     "name": "stdout",
     "output_type": "stream",
     "text": [
      "The future of AI agents is broad, promising, and fast-evolving, with significant implications for work, society, and technology. Here are some key trends and expectations shaping the future of AI agents:\n",
      "\n",
      "---\n",
      "\n",
      "**1. Increasing Autonomy and Capability**  \n",
      "AI agents are rapidly becoming more autonomous, able to execute complex tasks with minimal human intervention. They will shift from \"copilot\" tools (assisting users) to \"autopilot\" systems (independently handling workflows, projects, or operations). Multi-step reasoning, persistent context, and improved memory will enable agents to take on entire job functions or manage end-to-end business processes.\n",
      "\n",
      "**2. Specialization and Adaptability**  \n",
      "Future AI agents will be highly specialized, trained or fine-tuned for specific domains (e.g., legal research, customer service, scientific discovery). At the same time, some agents will be generalists capable of learning new tasks on-the-fly.\n",
      "\n",
      "**3. Collaboration and Orchestration**  \n",
      "Swarm or multi-agent systems, where multiple AI agents collaborate with each other and with humans, will become common. Agents might negotiate, delegate, or coordinate to solve complex goals, optimize workflows, or act as digital teams.\n",
      "\n",
      "**4. Seamless Integration with Digital Infrastructure**  \n",
      "AI agents will be tightly integrated into enterprise software, operating systems, IoT devices, and online services. They will interact through APIs, access real-time data, and execute actions across apps—essentially becoming \"doers\" rather than just \"advisors.\"\n",
      "\n",
      "**5. More Natural and Trustworthy Interaction**  \n",
      "Expect AI agents that can understand conversational context, emotion, and nuance, resulting in more natural, intelligent, and trustworthy user experiences. Safety, explainability, and transparency will be core to user adoption.\n",
      "\n",
      "**6. Economic and Societal Impact**  \n",
      "AI agents could dramatically boost productivity, lower costs, and unlock new business models (like Agent-as-a-Service). However, they will also challenge current labor markets, regulations, and even our notions of agency and responsibility.\n",
      "\n",
      "**7. Personalization and \"Digital Twins\"**  \n",
      "Personal agents could act as digital extensions of individuals—managing emails, finances, travel, or even negotiating on one's behalf. Over time, they may evolve as dynamic, context-aware “digital twins” that learn and act on our preferences.\n",
      "\n",
      "**8. Lifelong Learning and Continuous Improvement**  \n",
      "Agents will move towards lifelong learning—continuously adapting to new data, rules, and feedback, rather than being static models.\n",
      "\n",
      "**9. New Risks and Challenges**  \n",
      "Agents raise questions about control, reliability, misuse (e.g., autonomous cyberattacks), legal liability, and alignment with user and societal values. Policymakers and developers must address these proactively.\n",
      "\n",
      "---\n",
      "\n",
      "**Bottom Line:**  \n",
      "AI agents are on track to transform how we interact with technology and automate both routine and complex activities. Their evolution, adoption, and governance will define the next era of digital transformation—potentially ushering in the “Agentic Era” of computing, where intelligent software acts autonomously to achieve user and organizational goals.\n",
      "\n",
      "If you’d like, I can provide more details about current agent frameworks (like Auto-GPT, OpenAI’s function-calling), real-world use cases, or recent breakthroughs. Let me know your interest!\n",
      "Result:  Prompt design shapes LLM AI model outputs. Prompt engineering uses careful word, phrase, symbol, and format choices to guide models toward relevant, high-quality text. Small changes in input can cause major differences in model responses.\n",
      "Execution completed successfully.\n"
     ]
    }
   ],
   "source": [
    "await Execute();"
   ]
  }
 ],
 "metadata": {
  "kernelspec": {
   "display_name": ".NET (C#)",
   "language": "C#",
   "name": ".net-csharp"
  },
  "language_info": {
   "name": "polyglot-notebook"
  },
  "polyglot_notebook": {
   "kernelInfo": {
    "defaultKernelName": "csharp",
    "items": [
     {
      "aliases": [],
      "name": "csharp"
     }
    ]
   }
  }
 },
 "nbformat": 4,
 "nbformat_minor": 5
}
