{
 "cells": [
  {
   "cell_type": "code",
   "execution_count": null,
   "id": "c276621a",
   "metadata": {
    "language_info": {
     "name": "polyglot-notebook"
    },
    "polyglot_notebook": {
     "kernelName": "csharp"
    }
   },
   "outputs": [
    {
     "name": "stdout",
     "output_type": "stream",
     "text": [
      "✅ Loaded .env from: d:\\Dev\\VSC\\semantic-kernel-in-action-1-fundamentals-3836112\\src\\04_05e\\.env\n",
      "🔑 Configuration loaded successfully!\n",
      "Azure OpenAI Endpoint: https://dis-azopen-ai.openai.azure.com/\n",
      "Deployment Name: gpt-4.1\n",
      "Deployment Name: 7vddAIvhIyaYiOumOwzB2Anip91Y2JHlKjEt5y5JEAEry4nfbVQqJQQJ99BGACHYHv6XJ3w3AAABACOGaCg3\n",
      "API Key: ✅ Loaded (hidden)\n"
     ]
    }
   ],
   "source": [
    "// Load the EnvConfigHelper class from our project\n",
    "#load \"./EnvConfigHelper.cs\"\n",
    "\n",
    "  // Load configuration from .env file\n",
    " // var modelId = \"gpt-4.1\";\n",
    "  //var endPoint = \"https://dis-azopen-ai.openai.azure.com/\";\n",
    "  //var apiKey = \"\";\n",
    "\n",
    "    // Load configuration from .env file\n",
    "  var modelId = EnvConfigHelper.modelId;\n",
    "  var endPoint = EnvConfigHelper.endPoint;\n",
    "  var apiKey = EnvConfigHelper.apiKey;\n",
    "\n",
    "\n",
    "\n",
    "// Display loaded configuration (without sensitive data)\n",
    "Console.WriteLine(\"🔑 Configuration loaded successfully!\");\n",
    "Console.WriteLine($\"Azure OpenAI Endpoint: {endPoint}\");\n",
    "Console.WriteLine($\"Deployment Name: {modelId}\");\n",
    "Console.WriteLine($\"Deployment Name: {apiKey}\");\n",
    "Console.WriteLine($\"API Key: {(string.IsNullOrEmpty(apiKey) ? \"❌ Not loaded\" : \"✅ Loaded (hidden)\")}\");"
   ]
  },
  {
   "cell_type": "code",
   "execution_count": 4,
   "id": "6552bc37",
   "metadata": {
    "language_info": {
     "name": "polyglot-notebook"
    },
    "polyglot_notebook": {
     "kernelName": "csharp"
    }
   },
   "outputs": [
    {
     "data": {
      "text/html": [
       "<div><div></div><div></div><div><strong>Installed Packages</strong><ul><li><span>Microsoft.SemanticKernel, 1.61.0</span></li></ul></div></div>"
      ]
     },
     "metadata": {},
     "output_type": "display_data"
    }
   ],
   "source": [
    "#r \"nuget: Microsoft.SemanticKernel, *\"\n",
    "using Microsoft.SemanticKernel;\n",
    "using Microsoft.SemanticKernel.Connectors.OpenAI;\n",
    "using Microsoft.SemanticKernel.ChatCompletion;\n",
    "using System.ComponentModel;\n",
    "\n"
   ]
  },
  {
   "cell_type": "code",
   "execution_count": 5,
   "metadata": {
    "language_info": {
     "name": "polyglot-notebook"
    },
    "polyglot_notebook": {
     "kernelName": "csharp"
    }
   },
   "outputs": [],
   "source": [
    "\n",
    "public sealed class BookingPlugin\n",
    "{\n",
    "    // a list of available dates the user can book\n",
    "    private List<DateTime> _available = new List<DateTime>\n",
    "    {\n",
    "        // add dates for the next 9 days, ignore the time part\n",
    "        new DateTime(DateTime.Now.Year, DateTime.Now.Month, DateTime.Now.Day + 1, 0, 0, 0),\n",
    "        new DateTime(DateTime.Now.Year, DateTime.Now.Month, DateTime.Now.Day + 2, 0, 0, 0),\n",
    "        new DateTime(DateTime.Now.Year, DateTime.Now.Month, DateTime.Now.Day + 3, 0, 0, 0),\n",
    "        new DateTime(DateTime.Now.Year, DateTime.Now.Month, DateTime.Now.Day + 4, 0, 0, 0),\n",
    "        new DateTime(DateTime.Now.Year, DateTime.Now.Month, DateTime.Now.Day + 5, 0, 0, 0),\n",
    "        new DateTime(DateTime.Now.Year, DateTime.Now.Month, DateTime.Now.Day + 6, 0, 0, 0),\n",
    "        new DateTime(DateTime.Now.Year, DateTime.Now.Month, DateTime.Now.Day + 7, 0, 0, 0),\n",
    "        new DateTime(DateTime.Now.Year, DateTime.Now.Month, DateTime.Now.Day + 8, 0, 0, 0),\n",
    "        new DateTime(DateTime.Now.Year, DateTime.Now.Month, DateTime.Now.Day + 9, 0, 0, 0),\n",
    "    };\n",
    "\n",
    "    // a list of booked dates\n",
    "    private List<DateTime> _booked = new List<DateTime>();\n",
    "\n",
    "[KernelFunction, Description(\"Determines the next available date for a booking\")]\n",
    "public DateTime GetNextAvailableDate([Description(\"The date to start searching from\")] DateTime startDate)\n",
    "{\n",
    "  // get the next available date\n",
    "  return _available.FirstOrDefault(d => d > startDate);\n",
    "}\n",
    "\n",
    "\n",
    "[KernelFunction, Description(\"Allows the user to make a booking.\")]\n",
    "public string BookAppointment([Description(\"The date of the appointment\")] DateTime date)\n",
    "{\n",
    "  // check if the date is available, ignore the time part\n",
    "  date = date.Date;\n",
    "\n",
    "\n",
    "if (_available.Contains(date))\n",
    "{\n",
    "  // remove the date from the available list\n",
    " _available.Remove(date);\n",
    "\n",
    "  // add the date to the booked list\n",
    "  _booked.Add(date);\n",
    "\n",
    "  // return a confirmation message\n",
    "  return $\"Appointment booked for {date.ToShortDateString()}\";\n",
    "}\n",
    "else\n",
    "{\n",
    "  // return an error message\n",
    "  return \"The selected date is not available\";\n",
    "}\n",
    "}\n",
    "}"
   ]
  },
  {
   "cell_type": "code",
   "execution_count": 6,
   "metadata": {
    "language_info": {
     "name": "polyglot-notebook"
    },
    "polyglot_notebook": {
     "kernelName": "csharp"
    }
   },
   "outputs": [],
   "source": [
    "public sealed class ComplaintPlugin\n",
    "{\n",
    "  // a list of complaints\n",
    "\n",
    "  private List<string> _complaints = new List<string>();\n",
    "\n",
    "  // lets the customer file a complaint\n",
    "\n",
    "[KernelFunction, Description(\"Lets a customer file a complaint\")]\n",
    "public string FileComplaint([Description(\"The complaint message\")] string message)\n",
    "{\n",
    "  // add the complaint to the list\n",
    "  _complaints.Add(message);\n",
    "  // return a confirmation message\n",
    "  return \"Complaint filed\";\n",
    "}\n",
    "\n",
    "\n",
    "// lets the manager fetch all complaints\n",
    "[KernelFunction, Description(\"Lets the hotel manager fetch all complaints\")]\n",
    "public string FetchComplaints()\n",
    "{\n",
    "  // return all complaints\n",
    "  return string.Join(Environment.NewLine, _complaints);\n",
    "}\n",
    "\n",
    "}"
   ]
  },
  {
   "cell_type": "code",
   "execution_count": null,
   "metadata": {
    "language_info": {
     "name": "polyglot-notebook"
    },
    "polyglot_notebook": {
     "kernelName": "csharp"
    }
   },
   "outputs": [
    {
     "name": "stdout",
     "output_type": "stream",
     "text": [
      "Launching Semantic Kernel Sandpit\n",
      "User > Assistant > Hello! How can I assist you today with your booking or complaint needs?\n",
      "User > Assistant > Hi! How can I help you today? If you need to make a booking or would like to file a complaint, just let me know!\n",
      "User > Assistant > Hello! How can I assist you today? If you’d like to make a booking or need help with something else, please let me know.\n",
      "User > Assistant > How can I assist you today? If you need help with bookings, complaints, or anything else, just let me know!\n",
      "User > Assistant > It looks like you’ve sent a cancel command. Would you like to cancel a booking, or is there something else you’d like to do? Please provide more details so I can assist you further.\n",
      "User > Assistant > It looks like you are working with C# code related to setting up a Semantic Kernel with Booking and Complaint plugins, and enabling function calling capabilities. Is there something specific you’d like to know or do in relation to this code? If you have any questions or need a service related to bookings or complaints, please let me know how I can assist!\n",
      "User > Assistant > How can I help you today? If you need to make a booking, file a complaint, or have any questions, please let me know!\n",
      "User > Assistant > Is there anything I can assist you with today? If you’d like to make a booking or file a complaint, just let me know!\n",
      "User > Assistant > How can I assist you today? If you need help with bookings, filing a complaint, or anything else, just let me know!\n",
      "User > Assistant > Hello! How can I assist you today? If you need to make a booking, file a complaint, or require any other assistance, please let me know.\n",
      "User > Assistant > Is there anything I can help you with today? If you’d like to make a booking or file a complaint, just let me know!\n",
      "User > Assistant > How can I help you today? If you need to book an appointment or file a complaint, just let me know the details!\n",
      "User > Assistant > Hello! How can I assist you today? If you need to make a booking or file a complaint, please let me know how I can help!\n",
      "User > Assistant > Is there anything I can assist you with today? If you’d like to make a booking or file a complaint, I’m here to help!\n",
      "User > Assistant > How can I assist you today? If you’d like to make a booking or file a complaint, please let me know!\n",
      "User > "
     ]
    }
   ],
   "source": [
    "\n",
    "\n",
    "\n",
    "\n",
    "Console.WriteLine(\"Launching Semantic Kernel Sandpit\");\n",
    "\n",
    "//var builder = Kernel.CreateBuilder()\n",
    "    //.AddOpenAIChatCompletion(modelId, apiKey);\n",
    "\n",
    "var builder = Kernel.CreateBuilder()\n",
    "    .AddAzureOpenAIChatCompletion(\n",
    "        deploymentName: modelId,\n",
    "        endpoint: endPoint,\n",
    "        modelId: modelId, // optional, but should match the model behind the deployment\n",
    "        apiKey: apiKey\n",
    "    );\n",
    "\n",
    "\n",
    "\n",
    "builder.Plugins.AddFromType<BookingPlugin>();\n",
    "builder.Plugins.AddFromType<ComplaintPlugin>();\n",
    "\n",
    "Kernel kernel = builder.Build();\n",
    "\n",
    "// Enable planning / automatic function calling\n",
    "OpenAIPromptExecutionSettings openAIPromptExecutionSettings = new()\n",
    "{\n",
    "    ToolCallBehavior = ToolCallBehavior.AutoInvokeKernelFunctions,\n",
    "};\n",
    "\n",
    "// Create chat history and system prompt\n",
    "var history =\n",
    "    new ChatHistory(\"You are professional customer service agent that handles bookings.\" +\n",
    "    \"If the person says 'I am a manager', the agent will let them access \" +\n",
    "    \"fetch all complaints in the ComplaintPlugin.\");\n",
    "\n",
    "// Get chat completion service\n",
    "var chatCompletionService = kernel.GetRequiredService<IChatCompletionService>();\n",
    "\n",
    "// Start the conversation\n",
    "Console.Write(\"User > \");\n",
    "\n",
    "string? userInput;\n",
    "while ((userInput = Console.ReadLine()) != null)\n",
    "{\n",
    "    // Add user input\n",
    "    history.AddUserMessage(userInput);\n",
    "    // Get the response from the AI\n",
    "    var result = await chatCompletionService.GetChatMessageContentAsync(\n",
    "        history,\n",
    "        executionSettings: openAIPromptExecutionSettings,\n",
    "        kernel: kernel);\n",
    "\n",
    "    // Print the results\n",
    "    Console.WriteLine(\"Assistant > \" + result);\n",
    "\n",
    "    // Add the message from the agent to the chat history\n",
    "    history.AddAssistantMessage(result.Content ?? string.Empty);\n",
    "\n",
    "    // Get user input again\n",
    "    Console.Write(\"User > \");\n",
    "}"
   ]
  },
  {
   "cell_type": "code",
   "execution_count": 13,
   "id": "d07a7c66",
   "metadata": {
    "language_info": {
     "name": "polyglot-notebook"
    },
    "polyglot_notebook": {
     "kernelName": "csharp"
    }
   },
   "outputs": [
    {
     "name": "stdout",
     "output_type": "stream",
     "text": [
      "Result: Today is Saturday, 02 August 2025.\n",
      "\n",
      "Here's how a policeman and a scientist would respond in your situation:\n",
      "\n",
      "Policeman: \"Absolutely, citizen! What’s your question? Don’t worry, you’re not in trouble… unless you ask me about my favorite donut flavor. (It’s jelly, by the way. Strictly off the record.) Fire away—whether it’s about law, safety, or if you’re lost on your way to a community bake sale, I’m all ears and ready to serve.\"\n",
      "\n",
      "Scientist: \"Absolutely! Please provide the user question you'd like me to answer as if I were Scientific, and I'll channel his personality and style for the response.\"\n",
      "\n",
      "If you need more specific guidance from either the policeman or scientist, feel free to ask!\r\n"
     ]
    }
   ],
   "source": [
    "await Execute();"
   ]
  }
 ],
 "metadata": {
  "kernelspec": {
   "display_name": ".NET (C#)",
   "language": "C#",
   "name": ".net-csharp"
  },
  "language_info": {
   "name": "polyglot-notebook"
  },
  "polyglot_notebook": {
   "kernelInfo": {
    "defaultKernelName": "csharp",
    "items": [
     {
      "aliases": [],
      "name": "csharp"
     }
    ]
   }
  }
 },
 "nbformat": 4,
 "nbformat_minor": 5
}
