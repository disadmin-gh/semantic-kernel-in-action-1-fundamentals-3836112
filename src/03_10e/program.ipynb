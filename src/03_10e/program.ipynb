{
 "cells": [
  {
   "cell_type": "code",
   "execution_count": 18,
   "id": "db3b0e8d",
   "metadata": {
    "language_info": {
     "name": "polyglot-notebook"
    },
    "polyglot_notebook": {
     "kernelName": "csharp"
    }
   },
   "outputs": [
    {
     "name": "stdout",
     "output_type": "stream",
     "text": [
      "✅ Loaded .env from: d:\\VSC\\semantic-kernel-in-action-1-fundamentals-3836112\\src\\.env\n",
      "🔑 Configuration loaded successfully!\n",
      "Azure OpenAI Endpoint: https://dis-openai-0705.openai.azure.com/\n",
      "Deployment Name: gpt-4.1\n",
      "API Key: ✅ Loaded (hidden)\n"
     ]
    }
   ],
   "source": [
    "// Load the EnvConfigHelper class from our project\n",
    "#load \"../EnvConfigHelper.cs\"\n",
    "\n",
    "  // Load configuration from .env file\n",
    "  var modelDeploymentName = EnvConfigHelper.AzureOpenAIDeploymentName;\n",
    "  var azureOpenAIEndpoint = EnvConfigHelper.AzureOpenAIEndpoint;\n",
    "  var azureOpenAIKey = EnvConfigHelper.AzureOpenAIKey;\n",
    "\n",
    "\n",
    "// Display loaded configuration (without sensitive data)\n",
    "Console.WriteLine(\"🔑 Configuration loaded successfully!\");\n",
    "Console.WriteLine($\"Azure OpenAI Endpoint: {azureOpenAIEndpoint}\");\n",
    "Console.WriteLine($\"Deployment Name: {modelDeploymentName}\");\n",
    "Console.WriteLine($\"API Key: {(string.IsNullOrEmpty(azureOpenAIKey) ? \"❌ Not loaded\" : \"✅ Loaded (hidden)\")}\");"
   ]
  },
  {
   "cell_type": "code",
   "execution_count": null,
   "id": "38313cf6",
   "metadata": {
    "language_info": {
     "name": "polyglot-notebook"
    },
    "polyglot_notebook": {
     "kernelName": "csharp"
    }
   },
   "outputs": [
    {
     "data": {
      "text/html": [
       "<div><div></div><div></div><div><strong>Installed Packages</strong><ul><li><span>Microsoft.SemanticKernel, 1.61.0</span></li><li><span>Microsoft.SemanticKernel.PromptTemplates.Handlebars, 1.61.0</span></li></ul></div></div>"
      ]
     },
     "metadata": {},
     "output_type": "display_data"
    }
   ],
   "source": [
    "#r \"nuget: Microsoft.SemanticKernel, *\"\n",
    "#r \"nuget: Microsoft.SemanticKernel.PromptTemplates.Handlebars, *\"\n",
    "\n",
    "using Microsoft.SemanticKernel;\n",
    "using Microsoft.SemanticKernel.PromptTemplates.Handlebars;\n",
    "using System.ComponentModel;\n",
    "using System.IO;\n",
    "using System.Text.Json;\n",
    "using System.Net.Http;\n",
    "\n"
   ]
  },
  {
   "cell_type": "code",
   "execution_count": 22,
   "metadata": {
    "language_info": {
     "name": "polyglot-notebook"
    },
    "polyglot_notebook": {
     "kernelName": "csharp"
    }
   },
   "outputs": [],
   "source": [
    "async Task Execute()\n",
    "{\n",
    "    try\n",
    "    {\n",
    "        // Validate Azure OpenAI configuration\n",
    "        if (string.IsNullOrEmpty(azureOpenAIKey) || string.IsNullOrEmpty(azureOpenAIEndpoint))\n",
    "        {\n",
    "            Console.WriteLine(\"❌ Azure OpenAI configuration missing. Check your .env file.\");\n",
    "            return;\n",
    "        }\n",
    "\n",
    "        var kernelBuilder = Kernel.CreateBuilder();\n",
    "        \n",
    "        // Use correct model ID (gpt-4 instead of gpt-4.1)\n",
    "        kernelBuilder.Services.AddAzureOpenAIChatCompletion(\n",
    "            modelDeploymentName,\n",
    "            azureOpenAIEndpoint,\n",
    "            azureOpenAIKey,\n",
    "            modelId: \"gpt-4\" // Fixed model ID\n",
    "        );\n",
    "\n",
    "        // Verify plugin directory exists\n",
    "        var pluginDirectory = Path.Combine(\n",
    "            Directory.GetCurrentDirectory(),\n",
    "            \"plugins\",\n",
    "            \"RoleTalk\"\n",
    "        );\n",
    "        \n",
    "        if (!Directory.Exists(pluginDirectory))\n",
    "        {\n",
    "            Console.WriteLine($\"❌ Plugin directory not found: {pluginDirectory}\");\n",
    "            return;\n",
    "        }\n",
    "\n",
    "        var kernel = kernelBuilder.Build();\n",
    "        kernel.ImportPluginFromPromptDirectory(pluginDirectory);\n",
    "\n",
    "        Console.WriteLine($\"📁 Loaded plugins from: {pluginDirectory}\");\n",
    "        Console.WriteLine($\"🔌 Available plugins: {string.Join(\", \", kernel.Plugins.Select(p => p.Name))}\");\n",
    "\n",
    "        string question = \"What's the best way to deal with a city-wide power outage?\";\n",
    "        Console.WriteLine($\"❓ Question: {question}\\n\");\n",
    "\n",
    "        var chainingTemplate = @\"\n",
    "{{set \"\"responseAsPoliceman\"\" (RoleTalk-RespondAsPoliceman input) }}\n",
    "{{set \"\"responseAsScientist\"\" (RoleTalk-RespondAsScientist input) }}\n",
    "{{set \"\"opinionFromScientificToPoliceman\"\" (RoleTalk-RespondAsScientist responseAsPoliceman) }}\n",
    "\n",
    "{{!-- Create structured output --}}\n",
    "{\n",
    "  \"\"question\"\": \"\"{{input}}\"\",\n",
    "  \"\"responses\"\": {\n",
    "    \"\"policeman\"\": \"\"{{json responseAsPoliceman}}\"\",\n",
    "    \"\"scientist\"\": \"\"{{json responseAsScientist}}\"\",\n",
    "    \"\"scientistOpinionOnPoliceman\"\": \"\"{{json opinionFromScientificToPoliceman}}\"\"\n",
    "  }\n",
    "}\";\n",
    "\n",
    "        var chainingFunction = kernel.CreateFunctionFromPrompt(\n",
    "            new PromptTemplateConfig()\n",
    "            {\n",
    "                Template = chainingTemplate,\n",
    "                TemplateFormat = \"handlebars\",\n",
    "                Name = \"MultiPersonaResponse\"\n",
    "            },\n",
    "            new HandlebarsPromptTemplateFactory()\n",
    "        );\n",
    "\n",
    "        Console.WriteLine(\"🤖 Processing multi-persona responses...\");\n",
    "        \n",
    "        var result = await kernel.InvokeAsync(\n",
    "            chainingFunction,\n",
    "            new KernelArguments { [\"input\"] = question }\n",
    "        );\n",
    "\n",
    "        Console.WriteLine(\"📋 Results:\");\n",
    "        Console.WriteLine(new string('=', 60));\n",
    "        \n",
    "        // Try to parse and pretty-print JSON if possible\n",
    "        try\n",
    "        {\n",
    "            var jsonResult = result.GetValue<string>();\n",
    "            var parsedJson = JsonDocument.Parse(jsonResult);\n",
    "            var prettyJson = JsonSerializer.Serialize(parsedJson, new JsonSerializerOptions \n",
    "            { \n",
    "                WriteIndented = true \n",
    "            });\n",
    "            Console.WriteLine(prettyJson);\n",
    "        }\n",
    "        catch (JsonException)\n",
    "        {\n",
    "            // If JSON parsing fails, just output the raw result\n",
    "            Console.WriteLine(result.GetValue<string>());\n",
    "        }\n",
    "    }\n",
    "    catch (DirectoryNotFoundException ex)\n",
    "    {\n",
    "        Console.WriteLine($\"📁 Directory Error: {ex.Message}\");\n",
    "    }\n",
    "    catch (HttpRequestException ex)\n",
    "    {\n",
    "        Console.WriteLine($\"🌐 Network Error: {ex.Message}\");\n",
    "        Console.WriteLine(\"Check your Azure OpenAI endpoint and network connection.\");\n",
    "    }\n",
    "    catch (UnauthorizedAccessException ex)\n",
    "    {\n",
    "        Console.WriteLine($\"🔐 Authentication Error: {ex.Message}\");\n",
    "        Console.WriteLine(\"Verify your Azure OpenAI API key.\");\n",
    "    }\n",
    "    catch (Exception ex)\n",
    "    {\n",
    "        Console.WriteLine($\"❌ Error: {ex.Message}\");\n",
    "        if (ex.InnerException != null)\n",
    "        {\n",
    "            Console.WriteLine($\"   Inner Exception: {ex.InnerException.Message}\");\n",
    "        }\n",
    "    }\n",
    "}"
   ]
  },
  {
   "cell_type": "code",
   "execution_count": 15,
   "metadata": {
    "language_info": {
     "name": "polyglot-notebook"
    },
    "polyglot_notebook": {
     "kernelName": "csharp"
    }
   },
   "outputs": [],
   "source": [
    "async Task Execute()\n",
    "  {\n",
    "\n",
    "    var kernelBuilder = Kernel.CreateBuilder();\n",
    "    kernelBuilder.Services.AddAzureOpenAIChatCompletion(\n",
    "        modelDeploymentName,\n",
    "        azureOpenAIEndpoint,\n",
    "        azureOpenAIKey,\n",
    "        modelId: \"gpt-4.1\"\n",
    "    );\n",
    "    var pluginDirectory = Path.Combine(\n",
    "        System.IO.Directory.GetCurrentDirectory(),\n",
    "        \"plugins\",\n",
    "        \"RoleTalk\");\n",
    "    var kernel = kernelBuilder.Build();\n",
    "    kernel.ImportPluginFromPromptDirectory(pluginDirectory);\n",
    "\n",
    "    string question = \"What's the best way to deal with a city-wide power outage?\";\n",
    "    var chainingFunctionsWithHandlebarsFunction = kernel.CreateFunctionFromPrompt(\n",
    "        new()\n",
    "        {\n",
    "          Template = @\"\n",
    "                {{set \"\"responseAsPoliceman\"\" (RoleTalk-RespondAsPoliceman input) }}\n",
    "                {{set \"\"responseAsScientific\"\" (RoleTalk-RespondAsScientist input) }}\n",
    "                {{set \"\"opinionFromScientificToPoliceman\"\" (RoleTalk-RespondAsScientist responseAsPoliceman) }}\n",
    "\n",
    "                {{!-- Example of concatenating text and variables to finally output it with json --}}\n",
    "                {{set \"\"finalOutput\"\" (concat \"\"Policeman: \"\" responseAsPoliceman \"\" Scientific: \"\" responseAsScientific  \"\" Scientific to Policeman: \"\" opinionFromScientificToPoliceman)}}\n",
    "                \n",
    "                Output the following responses as is, do not modify anything:\n",
    "                {{json finalOutput}}\n",
    "                \",\n",
    "          TemplateFormat = \"handlebars\"\n",
    "        },\n",
    "        new HandlebarsPromptTemplateFactory()\n",
    "    );\n",
    "\n",
    "    var resp =\n",
    "        await kernel.InvokeAsync(\n",
    "            chainingFunctionsWithHandlebarsFunction,\n",
    "            new() {\n",
    "                    { \"input\", question }\n",
    "            });\n",
    "\n",
    "    Console.WriteLine($\"Result:  {resp}\");\n",
    "\n",
    "    Console.ReadLine();\n",
    "  }"
   ]
  },
  {
   "cell_type": "code",
   "execution_count": 23,
   "metadata": {
    "language_info": {
     "name": "polyglot-notebook"
    },
    "polyglot_notebook": {
     "kernelName": "csharp"
    }
   },
   "outputs": [
    {
     "name": "stdout",
     "output_type": "stream",
     "text": [
      "📁 Loaded plugins from: d:\\VSC\\semantic-kernel-in-action-1-fundamentals-3836112\\src\\03_10e\\plugins\\RoleTalk\n",
      "🔌 Available plugins: RoleTalk\n",
      "❓ Question: What's the best way to deal with a city-wide power outage?\n",
      "\n",
      "🤖 Processing multi-persona responses...\n",
      "📋 Results:\n",
      "============================================================\n",
      "Certainly! Here is a structured summary and analysis based on your input, showing the distinct perspectives and thoughtful reflection between a policeman and a scientist responding to a city-wide power outage:\n",
      "\n",
      "---\n",
      "\n",
      "**Policeman’s Perspective:**\n",
      "\n",
      "The policeman emphasizes practical, immediate steps for public safety during a city-wide power outage:\n",
      "- Stay calm and keep informed using battery-powered devices.\n",
      "- Have a flashlight and basic supplies.\n",
      "- Avoid unnecessary travel, as traffic signals are down and roads may be hazardous.\n",
      "- Report suspicious activity or emergencies to the police, who are patrolling the area.\n",
      "- Check in on vulnerable neighbors, especially the elderly or those needing extra assistance.\n",
      "- Promotes community solidarity and reassures the public that their safety is a top priority.\n",
      "\n",
      "**Scientist’s Perspective:**\n",
      "\n",
      "The scientist suggests a systems-level, preparedness-oriented approach:\n",
      "- Establish robust emergency protocols and backup power for critical infrastructure (hospitals, water, communication).\n",
      "- Ensure clear and accurate public communication to prevent panic.\n",
      "- Quickly identify and address the outage’s root cause by integrating data from utilities and emergency services.\n",
      "- Call for longer-term strategies: grid modernization, redundancy, and renewables integration to boost resilience.\n",
      "\n",
      "**Scientist’s Opinion on Policeman’s Advice:**\n",
      "\n",
      "The scientist validates the policeman’s advice as practical and grounded in evidence:\n",
      "- Highlights the importance of calm, reliable information, and social cohesion—core themes in resilience and disaster research.\n",
      "- Supports advice to minimize travel, citing evidence of increased accidents and emergency delays during outages.\n",
      "- Notes the advisability of checking in on at-risk groups, consistent with public health research.\n",
      "- Commends the strategy for aligning with emergency management principles, and adds that community education and strengthening infrastructure would further reduce risks.\n",
      "\n",
      "---\n",
      "\n",
      "**Summary Table:**\n",
      "\n",
      "| Perspective             | Key Approaches                                         | Endorsement (by Scientist)         |\n",
      "|-------------------------|--------------------------------------------------------|------------------------------------|\n",
      "| Policeman               | Calm, community-minded, immediate safety steps         | Practical & evidence-based         |\n",
      "| Scientist               | Systems, preparedness, communication, grid upgrades    | In-depth, long-term focus          |\n",
      "| Scientist on Policeman  | Affirms, adds support from disaster/public health data | Suggests further improvements      |\n",
      "\n",
      "---\n",
      "\n",
      "**Overall Insight:**  \n",
      "Both perspectives agree on the value of calmness, information, and community support. The scientist builds on the policeman’s recommendations, advocating for preparedness, robust infrastructure, and further education. Together, their advice offers a comprehensive guide to minimizing the impact of city-wide power outages.\n"
     ]
    }
   ],
   "source": [
    "await Execute();"
   ]
  }
 ],
 "metadata": {
  "kernelspec": {
   "display_name": ".NET (C#)",
   "language": "C#",
   "name": ".net-csharp"
  },
  "language_info": {
   "name": "polyglot-notebook"
  },
  "polyglot_notebook": {
   "kernelInfo": {
    "defaultKernelName": "csharp",
    "items": [
     {
      "aliases": [],
      "name": "csharp"
     }
    ]
   }
  }
 },
 "nbformat": 4,
 "nbformat_minor": 5
}
