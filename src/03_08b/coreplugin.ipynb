{
 "cells": [
  {
   "cell_type": "code",
   "execution_count": 1,
   "id": "db3b0e8d",
   "metadata": {
    "language_info": {
     "name": "polyglot-notebook"
    },
    "polyglot_notebook": {
     "kernelName": "csharp"
    }
   },
   "outputs": [
    {
     "name": "stdout",
     "output_type": "stream",
     "text": [
      "✅ Loaded .env from: d:\\VSC\\semantic-kernel-in-action-1-fundamentals-3836112\\src\\.env\n",
      "🔑 Configuration loaded successfully!\n",
      "Azure OpenAI Endpoint: https://dis-openai-0705.openai.azure.com/\n",
      "Deployment Name: gpt-4.1\n",
      "API Key: ✅ Loaded (hidden)\n"
     ]
    }
   ],
   "source": [
    "// Load the EnvConfigHelper class from our project\n",
    "#load \"../EnvConfigHelper.cs\"\n",
    "\n",
    "  // Load configuration from .env file\n",
    "  var modelDeploymentName = EnvConfigHelper.AzureOpenAIDeploymentName;\n",
    "  var azureOpenAIEndpoint = EnvConfigHelper.AzureOpenAIEndpoint;\n",
    "  var azureOpenAIKey = EnvConfigHelper.AzureOpenAIKey;\n",
    "\n",
    "\n",
    "// Display loaded configuration (without sensitive data)\n",
    "Console.WriteLine(\"🔑 Configuration loaded successfully!\");\n",
    "Console.WriteLine($\"Azure OpenAI Endpoint: {azureOpenAIEndpoint}\");\n",
    "Console.WriteLine($\"Deployment Name: {modelDeploymentName}\");\n",
    "Console.WriteLine($\"API Key: {(string.IsNullOrEmpty(azureOpenAIKey) ? \"❌ Not loaded\" : \"✅ Loaded (hidden)\")}\");"
   ]
  },
  {
   "cell_type": "code",
   "execution_count": 3,
   "id": "38313cf6",
   "metadata": {
    "language_info": {
     "name": "polyglot-notebook"
    },
    "polyglot_notebook": {
     "kernelName": "csharp"
    }
   },
   "outputs": [
    {
     "data": {
      "text/html": [
       "<div><div></div><div></div><div><strong>Installed Packages</strong><ul><li><span>Microsoft.SemanticKernel, 1.61.0</span></li><li><span>Microsoft.SemanticKernel.Plugins.Core, 1.61.0-preview</span></li></ul></div></div>"
      ]
     },
     "metadata": {},
     "output_type": "display_data"
    }
   ],
   "source": [
    "#r \"nuget: Microsoft.SemanticKernel, *\"\n",
    "#r \"nuget: Microsoft.SemanticKernel.Plugins.Core, 1.61.0-preview\"\n",
    "\n",
    "\n",
    "using Microsoft.SemanticKernel;\n",
    "using Microsoft.SemanticKernel.Plugins.Core;\n",
    "using System.ComponentModel;\n",
    "using System.IO;\n"
   ]
  },
  {
   "cell_type": "code",
   "execution_count": 4,
   "metadata": {
    "language_info": {
     "name": "polyglot-notebook"
    },
    "polyglot_notebook": {
     "kernelName": "csharp"
    }
   },
   "outputs": [],
   "source": [
    " // Create the builder\n",
    "var builder = Kernel.CreateBuilder();\n",
    "\n",
    "// Build the kernel\n",
    "var kernel = builder.Build();\n",
    "\n"
   ]
  },
  {
   "cell_type": "code",
   "execution_count": 5,
   "metadata": {
    "language_info": {
     "name": "polyglot-notebook"
    },
    "polyglot_notebook": {
     "kernelName": "csharp"
    }
   },
   "outputs": [
    {
     "name": "stdout",
     "output_type": "stream",
     "text": [
      "POLYGLOT ROCKS\r\n"
     ]
    }
   ],
   "source": [
    "var textPlugin = new TextPlugin();\n",
    "kernel.Plugins.AddFromObject(textPlugin, \"text\");\n",
    "\n",
    "var textResult = await kernel.InvokeAsync(\"text\", \"uppercase\", new() {\n",
    "    [\"input\"] = \"polyglot rocks\"\n",
    "});\n",
    "Console.WriteLine(textResult.GetValue<string>());\n",
    "\n"
   ]
  },
  {
   "cell_type": "code",
   "execution_count": 9,
   "metadata": {
    "language_info": {
     "name": "polyglot-notebook"
    },
    "polyglot_notebook": {
     "kernelName": "csharp"
    }
   },
   "outputs": [],
   "source": [
    "using Microsoft.SemanticKernel;\n",
    "using System.ComponentModel;\n",
    "\n",
    "public class MyMathPlugin\n",
    "{\n",
    "    [KernelFunction, Description(\"Adds two integers\")]\n",
    "    public int Add(int a, int b) => a + b;\n",
    "\n",
    "    [KernelFunction, Description(\"Subtracts second integer from the first\")]\n",
    "    public int Subtract(int a, int b) => a - b;\n",
    "\n",
    "    [KernelFunction, Description(\"Multiplies two integers\")]\n",
    "    public int Multiply(int a, int b) => a * b;\n",
    "\n",
    "    [KernelFunction, Description(\"Divides first number by second\")]\n",
    "    public double Divide(double a, double b) => b != 0 ? a / b : double.NaN;\n",
    "}"
   ]
  },
  {
   "cell_type": "code",
   "execution_count": 11,
   "metadata": {
    "language_info": {
     "name": "polyglot-notebook"
    },
    "polyglot_notebook": {
     "kernelName": "csharp"
    }
   },
   "outputs": [
    {
     "name": "stdout",
     "output_type": "stream",
     "text": [
      "➕ Add: 20\n",
      "➗ Divide: 5\n"
     ]
    }
   ],
   "source": [
    " // Create the builder\n",
    "var builder = Kernel.CreateBuilder();\n",
    "\n",
    "// Build the kernel\n",
    "var kernel = builder.Build();\n",
    "\n",
    "var mathPlugin = new MyMathPlugin();\n",
    "\n",
    "kernel.Plugins.AddFromObject(mathPlugin, \"math\");\n",
    "\n",
    "var addResult = await kernel.InvokeAsync(\"math\", \"Add\", new() {\n",
    "    [\"a\"] = 12,\n",
    "    [\"b\"] = 8\n",
    "});\n",
    "Console.WriteLine($\"➕ Add: {addResult.GetValue<int>()}\");\n",
    "\n",
    "var divResult = await kernel.InvokeAsync(\"math\", \"Divide\", new() {\n",
    "    [\"a\"] = 20,\n",
    "    [\"b\"] = 4\n",
    "});\n",
    "Console.WriteLine($\"➗ Divide: {divResult.GetValue<double>()}\");\n",
    "\n"
   ]
  },
  {
   "cell_type": "code",
   "execution_count": 12,
   "metadata": {
    "language_info": {
     "name": "polyglot-notebook"
    },
    "polyglot_notebook": {
     "kernelName": "csharp"
    }
   },
   "outputs": [
    {
     "name": "stdout",
     "output_type": "stream",
     "text": [
      "📅 Today is: Thursday, 24 July 2025\r\n"
     ]
    }
   ],
   "source": [
    " // Create the builder\n",
    "var builder = Kernel.CreateBuilder();\n",
    "\n",
    "// Build the kernel\n",
    "var kernel = builder.Build();\n",
    "\n",
    "var timePlugin = new TimePlugin();\n",
    "kernel.Plugins.AddFromObject(timePlugin, \"time\");\n",
    "\n",
    "var timeResult = await kernel.InvokeAsync(\"time\", \"date\");\n",
    "Console.WriteLine($\"📅 Today is: {timeResult.GetValue<string>()}\");\n"
   ]
  },
  {
   "cell_type": "code",
   "execution_count": 13,
   "metadata": {
    "language_info": {
     "name": "polyglot-notebook"
    },
    "polyglot_notebook": {
     "kernelName": "csharp"
    }
   },
   "outputs": [
    {
     "name": "stdout",
     "output_type": "stream",
     "text": [
      "✅ File written.\r\n"
     ]
    }
   ],
   "source": [
    " // Create the builder\n",
    "var builder = Kernel.CreateBuilder();\n",
    "\n",
    "// Build the kernel\n",
    "var kernel = builder.Build();\n",
    "\n",
    "// Check if the plugin with the name \"file\" already exists\n",
    "if (!kernel.Plugins.Any(p => p.Name == \"file\"))\n",
    "{\n",
    "    var filePlugin = new FileIOPlugin();\n",
    "    kernel.Plugins.AddFromObject(filePlugin, \"file\");\n",
    "}\n",
    "\n",
    "var writeResult = await kernel.InvokeAsync(\"file\", \"write\", new() {\n",
    "    [\"path\"] = \"./test.txt\",\n",
    "    [\"content\"] = \"Hello from Semantic Kernel!\"\n",
    "});\n",
    "Console.WriteLine(\"✅ File written.\");\n"
   ]
  },
  {
   "cell_type": "code",
   "execution_count": 14,
   "metadata": {
    "language_info": {
     "name": "polyglot-notebook"
    },
    "polyglot_notebook": {
     "kernelName": "csharp"
    }
   },
   "outputs": [
    {
     "name": "stdout",
     "output_type": "stream",
     "text": [
      "🌐 Response:\n",
      "{\"current_user_url\":\"https://api.github.com/user\",\"current_user_authorizations_html_url\":\"https://github.com/settings/connections/applications{/client_id}\",\"authorizations_url\":\"https://api.github.com/authorizations\",\"code_search_url\":\"https://api.github.com/search/code?q={query}{&page,per_page,sort,order}\",\"commit_search_url\":\"https://api.github.com/search/commits?q={query}{&page,per_page,sort,order}\",\"emails_url\":\"https://api.github.com/user/emails\",\"emojis_url\":\"https://api.github.com/emojis\",\"events_url\":\"https://api.github.com/events\",\"feeds_url\":\"https://api.github.com/feeds\",\"followers_url\":\"https://api.github.com/user/followers\",\"following_url\":\"https://api.github.com/user/following{/target}\",\"gists_url\":\"https://api.github.com/gists{/gist_id}\",\"hub_url\":\"https://api.github.com/hub\",\"issue_search_url\":\"https://api.github.com/search/issues?q={query}{&page,per_page,sort,order}\",\"issues_url\":\"https://api.github.com/issues\",\"keys_url\":\"https://api.github.com/user/keys\",\"label_search_url\":\"https://api.github.com/search/labels?q={query}&repository_id={repository_id}{&page,per_page}\",\"notifications_url\":\"https://api.github.com/notifications\",\"organization_url\":\"https://api.github.com/orgs/{org}\",\"organization_repositories_url\":\"https://api.github.com/orgs/{org}/repos{?type,page,per_page,sort}\",\"organization_teams_url\":\"https://api.github.com/orgs/{org}/teams\",\"public_gists_url\":\"https://api.github.com/gists/public\",\"rate_limit_url\":\"https://api.github.com/rate_limit\",\"repository_url\":\"https://api.github.com/repos/{owner}/{repo}\",\"repository_search_url\":\"https://api.github.com/search/repositories?q={query}{&page,per_page,sort,order}\",\"current_user_repositories_url\":\"https://api.github.com/user/repos{?type,page,per_page,sort}\",\"starred_url\":\"https://api.github.com/user/starred{/owner}{/repo}\",\"starred_gists_url\":\"https://api.github.com/gists/starred\",\"topic_search_url\":\"https://api.github.com/search/topics?q={query}{&page,per_page}\",\"user_url\":\"https://api.github.com/users/{user}\",\"user_organizations_url\":\"https://api.github.com/user/orgs\",\"user_repositories_url\":\"https://api.github.com/users/{user}/repos{?type,page,per_page,sort}\",\"user_search_url\":\"https://api.github.com/search/users?q={query}{&page,per_page,sort,order}\"}\r\n"
     ]
    }
   ],
   "source": [
    " // Create the builder\n",
    "var builder = Kernel.CreateBuilder();\n",
    "\n",
    "// Build the kernel\n",
    "var kernel = builder.Build();\n",
    "\n",
    "// ✅ Register HttpPlugin only if not already added\n",
    "if (!kernel.Plugins.Any(p => p.Name == \"http\"))\n",
    "{\n",
    "    var httpPlugin = new HttpPlugin();\n",
    "    kernel.Plugins.AddFromObject(httpPlugin, \"http\");\n",
    "}\n",
    "\n",
    "// ✅ Invoke GET with headers (GitHub requires User-Agent)\n",
    "var httpResult = await kernel.InvokeAsync(\"http\", \"get\", new()\n",
    "{\n",
    "    [\"uri\"] = \"https://api.github.com\",\n",
    "    [\"headers\"] = \"{\\\"User-Agent\\\": \\\"SemanticKernel-Agent\\\"}\"\n",
    "});\n",
    "\n",
    "Console.WriteLine($\"🌐 Response:\\n{httpResult.GetValue<string>()}\");\n"
   ]
  },
  {
   "cell_type": "code",
   "execution_count": 29,
   "metadata": {
    "language_info": {
     "name": "polyglot-notebook"
    },
    "polyglot_notebook": {
     "kernelName": "csharp"
    }
   },
   "outputs": [
    {
     "name": "stdout",
     "output_type": "stream",
     "text": [
      "To: kenneth@example.com\n",
      "\n",
      "Your SK agent is ready!\n",
      "\n",
      "Best regards,\n",
      "Your SK Agent\r\n"
     ]
    }
   ],
   "source": [
    "using Microsoft.SemanticKernel;\n",
    "using System.ComponentModel;\n",
    "\n",
    "\n",
    " // Create the builder\n",
    "var builder = Kernel.CreateBuilder();\n",
    "\n",
    "// Build the kernel\n",
    "var kernel = builder.Build();\n",
    "\n",
    "// Define a simple EmailPlugin with a generateEmail function\n",
    "public class EmailPlugin\n",
    "{\n",
    "    [KernelFunction, Description(\"Generates an email message for the recipient\")]\n",
    "    public string GenerateEmail(string recipient, string message)\n",
    "    {\n",
    "        return $\"To: {recipient}\\n\\n{message}\\n\\nBest regards,\\nYour SK Agent\";\n",
    "    }\n",
    "}\n",
    "\n",
    "if (!kernel.Plugins.Any(p => p.Name == \"email\"))\n",
    "{\n",
    "    var emailPlugin = new EmailPlugin();\n",
    "    kernel.Plugins.AddFromObject(emailPlugin, \"email\");\n",
    "}\n",
    "\n",
    "var emailResult = await kernel.InvokeAsync(\"email\", \"GenerateEmail\", new() {\n",
    "    [\"recipient\"] = \"kenneth@example.com\",\n",
    "    [\"message\"] = \"Your SK agent is ready!\"\n",
    "});\n",
    "Console.WriteLine(emailResult.GetValue<string>());\n",
    "\n"
   ]
  },
  {
   "cell_type": "code",
   "execution_count": 34,
   "metadata": {
    "language_info": {
     "name": "polyglot-notebook"
    },
    "polyglot_notebook": {
     "kernelName": "csharp"
    }
   },
   "outputs": [
    {
     "name": "stdout",
     "output_type": "stream",
     "text": [
      "is\r\n"
     ]
    }
   ],
   "source": [
    "//#r \"nuget: Microsoft.SemanticKernel.PromptTemplates.Handlebars, *\"\n",
    "\n",
    "using Microsoft.SemanticKernel.PromptTemplates.Handlebars;\n",
    "\n",
    "var userData = new Dictionary<string, object>\n",
    "{\n",
    "    { \"user.name\", \"John Doe\" },\n",
    "    { \"user.role\", \"Developer\" }\n",
    "};\n",
    "\n",
    " // Create the builder\n",
    "var builder = Kernel.CreateBuilder();\n",
    "\n",
    "// Build the kernel\n",
    "var kernel = builder.Build();\n",
    "\n",
    "var templateFactory = new HandlebarsPromptTemplateFactory();\n",
    "var promptTemplateConfig = new PromptTemplateConfig {\n",
    "    Template = \"{{user.name}} is {{user.role}}\",\n",
    "    TemplateFormat = \"handlebars\",\n",
    "    Name = \"UserIntro\"\n",
    "};\n",
    "var promptTemplate = templateFactory.Create(promptTemplateConfig);\n",
    "var kernelArgs = new KernelArguments(userData);\n",
    "var renderedTemplate = await promptTemplate.RenderAsync(kernel, kernelArgs);\n",
    "\n",
    "Console.WriteLine(renderedTemplate);\n",
    "\n"
   ]
  }
 ],
 "metadata": {
  "kernelspec": {
   "display_name": ".NET (C#)",
   "language": "C#",
   "name": ".net-csharp"
  },
  "language_info": {
   "name": "polyglot-notebook"
  },
  "polyglot_notebook": {
   "kernelInfo": {
    "defaultKernelName": "csharp",
    "items": [
     {
      "aliases": [],
      "name": "csharp"
     }
    ]
   }
  }
 },
 "nbformat": 4,
 "nbformat_minor": 5
}
