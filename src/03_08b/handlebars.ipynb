{
 "cells": [
  {
   "cell_type": "code",
   "execution_count": 1,
   "id": "db3b0e8d",
   "metadata": {
    "language_info": {
     "name": "polyglot-notebook"
    },
    "polyglot_notebook": {
     "kernelName": "csharp"
    }
   },
   "outputs": [
    {
     "name": "stdout",
     "output_type": "stream",
     "text": [
      "✅ Loaded .env from: d:\\VSC\\semantic-kernel-in-action-1-fundamentals-3836112\\src\\.env\n",
      "🔑 Configuration loaded successfully!\n",
      "Azure OpenAI Endpoint: https://dis-openai-0705.openai.azure.com/\n",
      "Deployment Name: gpt-4.1\n",
      "API Key: ✅ Loaded (hidden)\n"
     ]
    }
   ],
   "source": [
    "// Load the EnvConfigHelper class from our project\n",
    "#load \"../EnvConfigHelper.cs\"\n",
    "\n",
    "  // Load configuration from .env file\n",
    "  var modelDeploymentName = EnvConfigHelper.AzureOpenAIDeploymentName;\n",
    "  var azureOpenAIEndpoint = EnvConfigHelper.AzureOpenAIEndpoint;\n",
    "  var azureOpenAIKey = EnvConfigHelper.AzureOpenAIKey;\n",
    "\n",
    "\n",
    "// Display loaded configuration (without sensitive data)\n",
    "Console.WriteLine(\"🔑 Configuration loaded successfully!\");\n",
    "Console.WriteLine($\"Azure OpenAI Endpoint: {azureOpenAIEndpoint}\");\n",
    "Console.WriteLine($\"Deployment Name: {modelDeploymentName}\");\n",
    "Console.WriteLine($\"API Key: {(string.IsNullOrEmpty(azureOpenAIKey) ? \"❌ Not loaded\" : \"✅ Loaded (hidden)\")}\");"
   ]
  },
  {
   "cell_type": "code",
   "execution_count": 16,
   "id": "38313cf6",
   "metadata": {
    "language_info": {
     "name": "polyglot-notebook"
    },
    "polyglot_notebook": {
     "kernelName": "csharp"
    }
   },
   "outputs": [
    {
     "data": {
      "text/html": [
       "<div><div></div><div></div><div><strong>Installed Packages</strong><ul><li><span>Microsoft.SemanticKernel, 1.61.0</span></li><li><span>Microsoft.SemanticKernel.Plugins.Core, 1.61.0-preview</span></li><li><span>Microsoft.SemanticKernel.PromptTemplates.Handlebars, 1.61.0</span></li></ul></div></div>"
      ]
     },
     "metadata": {},
     "output_type": "display_data"
    }
   ],
   "source": [
    "#r \"nuget: Microsoft.SemanticKernel, *\"\n",
    "#r \"nuget: Microsoft.SemanticKernel.Plugins.Core, 1.61.0-preview\"\n",
    "#r \"nuget: Microsoft.SemanticKernel.PromptTemplates.Handlebars, *\"\n",
    "\n",
    "\n",
    "\n",
    "using Microsoft.SemanticKernel;\n",
    "using Microsoft.SemanticKernel.Plugins.Core;\n",
    "using Microsoft.SemanticKernel.PromptTemplates.Handlebars;\n",
    "using System.ComponentModel;\n",
    "using System.Net.Http;\n",
    "using System.IO;\n"
   ]
  },
  {
   "cell_type": "code",
   "execution_count": 17,
   "metadata": {
    "language_info": {
     "name": "polyglot-notebook"
    },
    "polyglot_notebook": {
     "kernelName": "csharp"
    }
   },
   "outputs": [],
   "source": [
    "public class WhatTimeIsIt\n",
    "{\n",
    "  [KernelFunction, Description(\"Get the current time\")]\n",
    "  public string Time(IFormatProvider? formatProvider = null) =>\n",
    "      DateTimeOffset.Now.ToString(\"hh:mm:ss tt\", formatProvider);\n",
    "}"
   ]
  },
  {
   "cell_type": "code",
   "execution_count": 9,
   "metadata": {
    "language_info": {
     "name": "polyglot-notebook"
    },
    "polyglot_notebook": {
     "kernelName": "csharp"
    }
   },
   "outputs": [],
   "source": [
    "async Task Execute()\n",
    "{\n",
    "    try\n",
    "    {\n",
    "        var builder = Kernel.CreateBuilder();\n",
    "        builder.Services.AddAzureOpenAIChatCompletion(\n",
    "            modelDeploymentName,\n",
    "            azureOpenAIEndpoint,\n",
    "            azureOpenAIKey,\n",
    "            modelId: \"gpt-4.1\"\n",
    "        );\n",
    "\n",
    "        builder.Plugins.AddFromType<WhatTimeIsIt>();\n",
    "        var kernel = builder.Build();\n",
    "  \n",
    "\n",
    "       // Create agenda\n",
    "        List<string> todaysCalendar = [\"8am - wakeup\", \"9am - work\", \"12am - lunch\", \"1pm - work\", \"6pm - exercise\", \"7pm - study\", \"10pm - sleep\"];\n",
    "\n",
    "        var handlebarsTemplate = @\"\n",
    "                        Please explain in a fun way the day agenda\n",
    "                        {{ set \"\"dayAgenda\"\" (todaysCalendar)}}\n",
    "                        {{ set \"\"whatTimeIsIt\"\" (WhatTimeIsIt-Time) }}\n",
    "\n",
    "                        {{#each dayAgenda}}\n",
    "                            Explain what you are doing at {{this}} in a fun way.\n",
    "                        {{/each}}\n",
    "\n",
    "                        Explain what you will be doing next at {{whatTimeIsIt}} in a fun way.\";\n",
    "\n",
    "        // Create handlebars template for intent\n",
    "        var handlebarsFunction = kernel.CreateFunctionFromPrompt(\n",
    "            new PromptTemplateConfig()\n",
    "            {\n",
    "            Template = handlebarsTemplate,\n",
    "            TemplateFormat = \"handlebars\"\n",
    "            },\n",
    "            new HandlebarsPromptTemplateFactory()\n",
    "        );\n",
    "\n",
    "        var todaysFunCalendar = await kernel.InvokeAsync(\n",
    "            handlebarsFunction,\n",
    "            new() {\n",
    "            { \"todaysCalendar\", todaysCalendar }\n",
    "            }\n",
    "        );\n",
    "\n",
    "        Console.WriteLine($\"Today's fun calendar:  {todaysFunCalendar}\");\n",
    "        }\n",
    "        catch (Exception ex)\n",
    "        {\n",
    "            // Output any errors to the cell\n",
    "            Console.WriteLine($\"Error: {ex.Message}\");\n",
    "        }\n",
    "}\n"
   ]
  },
  {
   "cell_type": "code",
   "execution_count": null,
   "metadata": {
    "language_info": {
     "name": "polyglot-notebook"
    },
    "polyglot_notebook": {
     "kernelName": "csharp"
    }
   },
   "outputs": [],
   "source": [
    "async Task Execute()\n",
    "{\n",
    "    try\n",
    "    {\n",
    "        // Validate required configuration\n",
    "        if (string.IsNullOrEmpty(azureOpenAIKey) || string.IsNullOrEmpty(azureOpenAIEndpoint))\n",
    "        {\n",
    "            Console.WriteLine(\"❌ Azure OpenAI configuration is missing. Please check your .env file.\");\n",
    "            return;\n",
    "        }\n",
    "\n",
    "        var builder = Kernel.CreateBuilder();\n",
    "        \n",
    "        // Use a valid model ID (gpt-4 instead of gpt-4.1)\n",
    "        builder.Services.AddAzureOpenAIChatCompletion(\n",
    "            modelDeploymentName,\n",
    "            azureOpenAIEndpoint,\n",
    "            azureOpenAIKey,\n",
    "            modelId: \"gpt-4\" // Fixed model ID\n",
    "        );\n",
    "\n",
    "        builder.Plugins.AddFromType<WhatTimeIsIt>();\n",
    "        var kernel = builder.Build();\n",
    "\n",
    "        // Create agenda with corrected time format\n",
    "        List<string> todaysCalendar = [\n",
    "            \"8am - wake up\", \n",
    "            \"9am - work\", \n",
    "            \"12pm - lunch\",  // Fixed: was 12am\n",
    "            \"1pm - work\", \n",
    "            \"6pm - exercise\", \n",
    "            \"7pm - study\", \n",
    "            \"10pm - sleep\"\n",
    "        ];\n",
    "\n",
    "        var handlebarsTemplate = @\"\n",
    "            Please explain in a fun way the day agenda:\n",
    "            {{ set \"\"dayAgenda\"\" (todaysCalendar) }}\n",
    "            {{ set \"\"currentTime\"\" (WhatTimeIsIt-Time) }}\n",
    "\n",
    "            {{#each dayAgenda}}\n",
    "            🎯 {{this}} - Make this sound exciting and engaging!\n",
    "            {{/each}}\n",
    "\n",
    "            🕐 Current time: {{currentTime}}\n",
    "            What should you be doing right now? Make it sound awesome!\";\n",
    "\n",
    "        // Create handlebars function\n",
    "        var handlebarsFunction = kernel.CreateFunctionFromPrompt(\n",
    "            new PromptTemplateConfig()\n",
    "            {\n",
    "                Template = handlebarsTemplate,\n",
    "                TemplateFormat = \"handlebars\"\n",
    "            },\n",
    "            new HandlebarsPromptTemplateFactory()\n",
    "        );\n",
    "\n",
    "        Console.WriteLine(\"🚀 Generating your fun daily agenda...\");\n",
    "        \n",
    "        var todaysFunCalendar = await kernel.InvokeAsync(\n",
    "            handlebarsFunction,\n",
    "            new() {\n",
    "                { \"todaysCalendar\", todaysCalendar }\n",
    "            }\n",
    "        );\n",
    "\n",
    "        Console.WriteLine($\"📅 Today's Fun Calendar:\\n{todaysFunCalendar}\");\n",
    "    }\n",
    "    catch (HttpRequestException httpEx)\n",
    "    {\n",
    "        Console.WriteLine($\"🌐 Network Error: {httpEx.Message}\");\n",
    "        Console.WriteLine(\"Please check your Azure OpenAI endpoint and network connection.\");\n",
    "    }\n",
    "    catch (UnauthorizedAccessException authEx)\n",
    "    {\n",
    "        Console.WriteLine($\"🔐 Authentication Error: {authEx.Message}\");\n",
    "        Console.WriteLine(\"Please verify your Azure OpenAI API key.\");\n",
    "    }\n",
    "    catch (Exception ex)\n",
    "    {\n",
    "        Console.WriteLine($\"❌ Error: {ex.Message}\");\n",
    "        if (ex.InnerException != null)\n",
    "        {\n",
    "            Console.WriteLine($\"   Inner Exception: {ex.InnerException.Message}\");\n",
    "        }\n",
    "    }\n",
    "}"
   ]
  },
  {
   "cell_type": "markdown",
   "id": "c686ee76",
   "metadata": {},
   "source": [
    "The active selection demonstrates the core functionality of a Semantic Kernel application that creates an AI-powered daily agenda generator using Handlebars templating. This code showcases how to combine plugins, templates, and AI to transform a simple schedule into an engaging, personalized experience.\n",
    "\n",
    "The code begins by registering the `WhatTimeIsIt` plugin with the kernel using `builder.Plugins.AddFromType<WhatTimeIsIt>()`. This plugin provides time-related functionality that will be accessible within the Handlebars template. After building the kernel, a sample daily calendar is created as a list of strings representing typical daily activities with their scheduled times. The calendar includes corrected time formatting, notably fixing \"12am\" to \"12pm\" for lunch, which demonstrates attention to realistic scheduling.\n",
    "\n",
    "The Handlebars template is the heart of this implementation, defining how the AI should process and present the calendar data. The template uses Handlebars syntax with `{{ set }}` directives to assign variables - `dayAgenda` receives the calendar data, while `currentTime` captures the current time from the plugin. The `{{#each}}` block iterates through each calendar item, instructing the AI to make each activity sound \"exciting and engaging\" with emoji formatting. The template concludes by asking the AI to suggest what the user should be doing at the current time in an enthusiastic manner.\n",
    "\n",
    "The code then creates a kernel function from this prompt template using `CreateFunctionFromPrompt()`. This method takes a `PromptTemplateConfig` that specifies the template content and format (\"handlebars\"), along with a `HandlebarsPromptTemplateFactory` to handle the template processing. When the function is invoked with `kernel.InvokeAsync()`, it passes the calendar data as arguments, allowing the AI to generate a fun, personalized interpretation of the daily schedule.\n",
    "\n",
    "This approach demonstrates several key concepts: plugin integration for dynamic data (current time), template-driven AI prompts for consistent formatting, and the separation of data (calendar) from presentation logic (template). The result is a flexible system that can transform any daily schedule into an engaging, AI-generated narrative while maintaining the structure and timing of the original agenda."
   ]
  },
  {
   "cell_type": "code",
   "execution_count": 19,
   "metadata": {
    "language_info": {
     "name": "polyglot-notebook"
    },
    "polyglot_notebook": {
     "kernelName": "csharp"
    }
   },
   "outputs": [
    {
     "name": "stdout",
     "output_type": "stream",
     "text": [
      "🚀 Generating your fun daily agenda...\n",
      "📅 Today's Fun Calendar:\n",
      "Absolutely! Let’s make your day sound like the most epic adventure ever:\n",
      "\n",
      "---\n",
      "🎯 **8am – Wake Up!**  \n",
      "Rise and shine, champion! The world is waiting for your first amazing move—stretch, yawn, and get ready to launch into greatness like a rocket blasting off at sunrise!\n",
      "\n",
      "🎯 **9am – Work!**  \n",
      "Time to suit up and enter productivity mode! You’re a hero on a mission—every email answered, every task tackled brings you closer to workday victory. Unleash your inner productivity ninja!\n",
      "\n",
      "🎯 **12pm – Lunch!**  \n",
      "Sound the trumpets! It’s taste-bud adventure time. Take your taste buds to flavor town, refuel like a legend, and savor every bite—because lunch is your delicious pit stop on the racetrack of life.\n",
      "\n",
      "🎯 **1pm – Work!**  \n",
      "Round two, game face on! Jump back into action, conquer challenges, and check off that to-do list with the power and focus of a superhero in their prime.\n",
      "\n",
      "🎯 **6pm – Exercise!**  \n",
      "Suit up in your athletic gear—this is your superhero training montage! Run, stretch, move, and sweat with the soundtrack of awesomeness playing in your mind. You’re building strength for your next great adventure.\n",
      "\n",
      "🎯 **7pm – Study!**  \n",
      "Time to power up your brain! Channel your inner detective, explorer, or wizard as you dive into knowledge. Every fact you learn is a new spell, tool, or map for your mental treasure chest.\n",
      "\n",
      "🎯 **10pm – Sleep!**  \n",
      "Pull the covers up, because it’s time to recharge your superpowers. Dreamland is calling, and you’ve got a VIP ticket to the most restful, magical show in town. Good night, world-changer!\n",
      "\n",
      "---\n",
      "\n",
      "🕐 **Current time: 10:05:53 AM**\n",
      "\n",
      "**What should you be doing right now?**\n",
      "\n",
      "🎯 **You’re in work mode!**  \n",
      "Right now, you’re smack-dab in the middle of your Productivity Adventure! You’re at your desk like the captain of a starship navigating through a galaxy of awesome ideas and big achievements. Tackle those tasks, answer those emails, make progress like an absolute boss—it’s not just work, it’s you building your own empire, one amazing accomplishment at a time. Go crush it! 🚀✨\n"
     ]
    }
   ],
   "source": [
    "await Execute();"
   ]
  }
 ],
 "metadata": {
  "kernelspec": {
   "display_name": ".NET (C#)",
   "language": "C#",
   "name": ".net-csharp"
  },
  "language_info": {
   "name": "polyglot-notebook"
  },
  "polyglot_notebook": {
   "kernelInfo": {
    "defaultKernelName": "csharp",
    "items": [
     {
      "aliases": [],
      "name": "csharp"
     }
    ]
   }
  }
 },
 "nbformat": 4,
 "nbformat_minor": 5
}
