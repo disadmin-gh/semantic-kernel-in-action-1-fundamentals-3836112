{
 "cells": [
  {
   "cell_type": "code",
   "execution_count": 12,
   "id": "db3b0e8d",
   "metadata": {
    "language_info": {
     "name": "polyglot-notebook"
    },
    "polyglot_notebook": {
     "kernelName": "csharp"
    }
   },
   "outputs": [
    {
     "name": "stdout",
     "output_type": "stream",
     "text": [
      "✅ Loaded .env from: d:\\VSC\\semantic-kernel-in-action-1-fundamentals-3836112\\src\\.env\n",
      "🔑 Configuration loaded successfully!\n",
      "Azure OpenAI Endpoint: https://dis-openai-0705.openai.azure.com/\n",
      "Deployment Name: gpt-4.1\n",
      "API Key: ✅ Loaded (hidden)\n"
     ]
    }
   ],
   "source": [
    "// Load the EnvConfigHelper class from our project\n",
    "#load \"../EnvConfigHelper.cs\"\n",
    "\n",
    "  // Load configuration from .env file\n",
    "  var modelDeploymentName = EnvConfigHelper.AzureOpenAIDeploymentName;\n",
    "  var azureOpenAIEndpoint = EnvConfigHelper.AzureOpenAIEndpoint;\n",
    "  var azureOpenAIKey = EnvConfigHelper.AzureOpenAIKey;\n",
    "\n",
    "\n",
    "// Display loaded configuration (without sensitive data)\n",
    "Console.WriteLine(\"🔑 Configuration loaded successfully!\");\n",
    "Console.WriteLine($\"Azure OpenAI Endpoint: {azureOpenAIEndpoint}\");\n",
    "Console.WriteLine($\"Deployment Name: {modelDeploymentName}\");\n",
    "Console.WriteLine($\"API Key: {(string.IsNullOrEmpty(azureOpenAIKey) ? \"❌ Not loaded\" : \"✅ Loaded (hidden)\")}\");"
   ]
  },
  {
   "cell_type": "code",
   "execution_count": 13,
   "id": "38313cf6",
   "metadata": {
    "language_info": {
     "name": "polyglot-notebook"
    },
    "polyglot_notebook": {
     "kernelName": "csharp"
    }
   },
   "outputs": [
    {
     "data": {
      "text/html": [
       "<div><div></div><div></div><div><strong>Installed Packages</strong><ul><li><span>Microsoft.SemanticKernel, 1.60.0</span></li></ul></div></div>"
      ]
     },
     "metadata": {},
     "output_type": "display_data"
    }
   ],
   "source": [
    "#r \"nuget: Microsoft.SemanticKernel, *\"\n",
    "using Microsoft.SemanticKernel;\n",
    "using System.ComponentModel;\n",
    "using System.IO;"
   ]
  },
  {
   "cell_type": "code",
   "execution_count": 14,
   "metadata": {
    "language_info": {
     "name": "polyglot-notebook"
    },
    "polyglot_notebook": {
     "kernelName": "csharp"
    }
   },
   "outputs": [],
   "source": [
    "public class MyMathPlugin\n",
    "{\n",
    "  [KernelFunction, Description(\"Take the square root of a number\")]\n",
    "  public static double Sqrt(\n",
    "  [Description(\"The number to take a square root of\")] double number1)\n",
    "  {\n",
    "    return Math.Sqrt(number1);\n",
    "  }\n",
    "}"
   ]
  },
  {
   "cell_type": "code",
   "execution_count": 15,
   "metadata": {
    "language_info": {
     "name": "polyglot-notebook"
    },
    "polyglot_notebook": {
     "kernelName": "csharp"
    }
   },
   "outputs": [],
   "source": [
    "async Task Execute()\n",
    "  {\n",
    "\n",
    "    var builder = Kernel.CreateBuilder();\n",
    "    builder.Services.AddAzureOpenAIChatCompletion(\n",
    "        modelDeploymentName,\n",
    "        azureOpenAIEndpoint,\n",
    "        azureOpenAIKey,\n",
    "        modelId: \"gpt-4.1\"\n",
    "    );\n",
    "    builder.Plugins.AddFromType<MyMathPlugin>();\n",
    "    var kernel = builder.Build();\n",
    "    \n",
    "\n",
    "    // Also able to add it after the kernel has been built\n",
    "    // kernel.ImportPluginFromType<MyMathPlugin>();\n",
    "    var NumberToSquareRoot = 9;\n",
    "    var squareRootResult =\n",
    "        await kernel.InvokeAsync(\n",
    "          \"MyMathPlugin\",\n",
    "          \"Sqrt\",\n",
    "          new() {\n",
    "            { \"number1\", NumberToSquareRoot }\n",
    "          });\n",
    "\n",
    "    Console.WriteLine($\"The Square root of {NumberToSquareRoot} is:  {squareRootResult}\");\n",
    "\n",
    "    //Console.ReadLine();\n",
    "  }"
   ]
  },
  {
   "cell_type": "code",
   "execution_count": 16,
   "metadata": {
    "language_info": {
     "name": "polyglot-notebook"
    },
    "polyglot_notebook": {
     "kernelName": "csharp"
    }
   },
   "outputs": [
    {
     "name": "stdout",
     "output_type": "stream",
     "text": [
      "The Square root of 9 is:  3\r\n"
     ]
    }
   ],
   "source": [
    "await Execute();"
   ]
  }
 ],
 "metadata": {
  "kernelspec": {
   "display_name": ".NET (C#)",
   "language": "C#",
   "name": ".net-csharp"
  },
  "language_info": {
   "name": "polyglot-notebook"
  },
  "polyglot_notebook": {
   "kernelInfo": {
    "defaultKernelName": "csharp",
    "items": [
     {
      "aliases": [],
      "name": "csharp"
     }
    ]
   }
  }
 },
 "nbformat": 4,
 "nbformat_minor": 5
}
